{
 "cells": [
  {
   "cell_type": "markdown",
   "id": "225f140d-4ade-4585-bcbd-e487aef11ae0",
   "metadata": {},
   "source": [
    "# NLP (Natural Language Processing) Nedir?\n",
    "NLP, yani Doğal Dil İşleme, bilgisayarların insan dilini (Türkçe, İngilizce, Arapça vs.) anlaması, işlemesi ve üretmesi için kullanılan yapay zekâ alanıdır.\n",
    "\n",
    "Kısacası: Bilgisayarların dili \"insanca\" anlamasını sağlar.\n",
    "Hem yazılı hem sözlü dili işler: tweet, e-posta, haber, konuşma, yorum, vs.\n",
    "\n",
    "\n",
    "### NLP Ne İşe Yarar?\n",
    "İnsan dilini veriye çevirir ve anlam çıkarır.\n",
    "Mesela:\n",
    "| Uygulama        | Açıklama                             |\n",
    "| --------------- | ------------------------------------ |\n",
    "| Duygu analizi   | Bir yorum olumlu mu olumsuz mu?      |\n",
    "| Chatbot         | Kullanıcıyla doğal konuşmalar yapmak |\n",
    "| Otomatik çeviri | Google Translate, DeepL gibi         |\n",
    "| Sesli asistan   | Siri, Alexa, Google Asistan          |\n",
    "| Yazım denetimi  | \"Gramer hatası mı var?\" kontrolü     |\n",
    "| Özet çıkarma    | Uzun metni kısa özet haline getirme  |\n"
   ]
  },
  {
   "cell_type": "markdown",
   "id": "ac3e2c65-e108-4931-84e5-3c562293870f",
   "metadata": {},
   "source": [
    "## Gerekli Kütüphaneleri Yüklenmesi"
   ]
  },
  {
   "cell_type": "code",
   "execution_count": 3,
   "id": "caf183eb-5a7b-4e19-829c-bced6db66fe2",
   "metadata": {},
   "outputs": [
    {
     "name": "stderr",
     "output_type": "stream",
     "text": [
      "[nltk_data] Downloading package punkt to\n",
      "[nltk_data]     C:\\Users\\omer_\\AppData\\Roaming\\nltk_data...\n",
      "[nltk_data]   Package punkt is already up-to-date!\n",
      "[nltk_data] Downloading package stopwords to\n",
      "[nltk_data]     C:\\Users\\omer_\\AppData\\Roaming\\nltk_data...\n",
      "[nltk_data]   Package stopwords is already up-to-date!\n"
     ]
    },
    {
     "data": {
      "text/plain": [
       "True"
      ]
     },
     "execution_count": 3,
     "metadata": {},
     "output_type": "execute_result"
    }
   ],
   "source": [
    "import nltk\n",
    "import string\n",
    "from nltk.corpus import stopwords\n",
    "\n",
    "nltk.download(\"punkt\")\n",
    "nltk.download(\"stopwords\")\n"
   ]
  },
  {
   "cell_type": "markdown",
   "id": "12c2b76f-16ae-45d5-8a1e-dda73b8e0885",
   "metadata": {},
   "source": [
    "* nltk: Doğal dil işleme için kullanılan Python kütüphanesidir.\n",
    "\n",
    "* string: Noktalama işaretlerini temizlemek için kullanılır.\n",
    "\n",
    "* stopwords: Anlamsal olarak yük taşımayan kelimeleri (bu, çok, ve, ile...) barındırır.\n",
    "\n",
    "* punkt: Cümleleri kelimelere ayırmak (tokenization) için gereken modüldür."
   ]
  },
  {
   "cell_type": "code",
   "execution_count": 4,
   "id": "b7de2181-0db8-490b-94e6-8b5a88822616",
   "metadata": {},
   "outputs": [],
   "source": [
    "veriler = [\n",
    "    # 🔵 POZİTİF\n",
    "    (\"Bu ürünü çok beğendim\", \"pozitif\"),\n",
    "    (\"Harika bir deneyimdi\", \"pozitif\"),\n",
    "    (\"Bayıldım, kesinlikle tavsiye ederim\", \"pozitif\"),\n",
    "    (\"Ürün zamanında ve sorunsuz geldi\", \"pozitif\"),\n",
    "    (\"Kalitesi beklediğimden daha iyi çıktı\", \"pozitif\"),\n",
    "    (\"Satıcı çok ilgiliydi, teşekkür ederim\", \"pozitif\"),\n",
    "    (\"Yumuşacık ve kullanışlı bir ürün\", \"pozitif\"),\n",
    "    (\"Kesinlikle tekrar alırım\", \"pozitif\"),\n",
    "    (\"Memnun kaldım, herkese öneririm\", \"pozitif\"),\n",
    "    (\"Kusursuz hizmet, ellerinize sağlık\", \"pozitif\"),\n",
    "    (\"Müşteri hizmetleri çok yardımcı oldu\", \"pozitif\"),\n",
    "    (\"Paketleme çok özenliydi\", \"pozitif\"),\n",
    "    (\"Tam istediğim gibi geldi\", \"pozitif\"),\n",
    "\n",
    "    # 🔴 NEGATİF\n",
    "    (\"Berbat bir deneyimdi\", \"negatif\"),\n",
    "    (\"Hiç memnun kalmadım\", \"negatif\"),\n",
    "    (\"Kargom çok geç geldi\", \"negatif\"),\n",
    "    (\"Ürün görseldeki gibi değil\", \"negatif\"),\n",
    "    (\"Kalitesi çok kötü\", \"negatif\"),\n",
    "    (\"Tam bir hayal kırıklığı\", \"negatif\"),\n",
    "    (\"Eksik ürün gönderildi\", \"negatif\"),\n",
    "    (\"Asla tavsiye etmiyorum\", \"negatif\"),\n",
    "    (\"Müşteri hizmetleri ilgisizdi\", \"negatif\"),\n",
    "    (\"Kullanım sonrası hemen bozuldu\", \"negatif\"),\n",
    "    (\"Satıcı sorularıma cevap vermedi\", \"negatif\"),\n",
    "    (\"Paket hasarlıydı\", \"negatif\"),\n",
    "    (\"Aldığıma pişman oldum\", \"negatif\"),\n",
    "]"
   ]
  },
  {
   "cell_type": "markdown",
   "id": "9b440daa-8f22-4910-b81d-7120b856ad25",
   "metadata": {},
   "source": [
    "* Bu, etiketli veri dediğimiz şeydir: her cümlenin duygu durumu bellidir (pozitif/negatif).\n",
    "\n",
    "* Supervised learning yani “denetimli öğrenme” için gereklidir.\n",
    "\n"
   ]
  },
  {
   "cell_type": "markdown",
   "id": "f2470c4e-4469-4652-9843-532958c3a99f",
   "metadata": {},
   "source": [
    "## Veri Temizleme"
   ]
  },
  {
   "cell_type": "markdown",
   "id": "c75698e5-a7b9-4772-b817-1ce70e073fbe",
   "metadata": {},
   "source": [
    "Veri temizleme (data cleaning) NLP’de doğal dil verilerini analiz edilebilir, anlamlı ve tutarlı hale getirmek için yapılan ön işleme (preprocessing) adımlarından biridir. Çünkü ham metin verisi genellikle gürültülüdür: yazım hataları, noktalama, alakasız semboller, gereksiz kelimeler, farklı biçimler vs. barındırır.\n",
    "\n",
    "| Adım                         | Açıklama                                      \n",
    "| ---------------------------- | ----------------------------------------------\n",
    "| 1. Küçük harfe çevirme       | Büyük-küçük harf farkını ortadan kaldırır      \n",
    "| 2. Noktalama temizleme       | Noktalama işaretlerini siler                  \n",
    "| 3. Sayı temizleme            | Sayılar model için anlamsızsa silinir          \n",
    "| 4. Gereksiz boşluk temizliği | Fazla boşlukları kaldırır                     \n",
    "| 5. Stopwords çıkarma         | Anlam taşımayan sık kelimeler (ve, bu, ile...) \n",
    "| 6. Tokenization              | Metni kelime/parçacıklara ayırma                 \n"
   ]
  },
  {
   "cell_type": "code",
   "execution_count": 5,
   "id": "af6e89b9-bc55-43b0-a943-1d8249491058",
   "metadata": {},
   "outputs": [],
   "source": [
    "stop_words = set(stopwords.words(\"turkish\"))\n",
    "\n",
    "def temizle(cumle):\n",
    "    cumle = cumle.lower()\n",
    "    cumle = cumle.translate(str.maketrans(\"\", \"\", string.punctuation))\n",
    "    kelimeler = nltk.word_tokenize(cumle)\n",
    "    temiz = [k for k in kelimeler if k not in stop_words]\n",
    "    return temiz\n"
   ]
  },
  {
   "cell_type": "markdown",
   "id": "18f5e38b-3d71-4856-be5b-ba013363a423",
   "metadata": {},
   "source": [
    "* lower(): Büyük/küçük harf farkı ortadan kalkar (Beğendim ≠ beğendim problemi çözülür)\n",
    "\n",
    "* translate(): Noktalama işaretleri temizlenir.\n",
    "\n",
    "* word_tokenize: Cümleyi kelimelere böler.\n",
    "\n",
    "* stopwords çıkarımı: “ve, bu, bir” gibi anlam taşımayan kelimeleri çıkarırız.\n",
    "\n",
    "Temiz veri, modelin daha iyi öğrenmesini sağlar. Gürültülü veri, karışıklık yaratır."
   ]
  },
  {
   "cell_type": "code",
   "execution_count": null,
   "id": "0dcf36fa-5d3a-4231-91be-bc5cc7ef6ced",
   "metadata": {},
   "outputs": [],
   "source": [
    "stop_words"
   ]
  },
  {
   "cell_type": "markdown",
   "id": "c1c72a5b-c2ea-4c82-b7ed-c52154eb7aba",
   "metadata": {},
   "source": [
    "## Temizlenmiş Belgeleri Hazırlama"
   ]
  },
  {
   "cell_type": "code",
   "execution_count": 7,
   "id": "70424148-1135-4891-a0a9-c7ac810024c0",
   "metadata": {},
   "outputs": [],
   "source": [
    "belgeler = []\n",
    "for cumle, etiket in veriler:\n",
    "    kelimeler = temizle(cumle)\n",
    "    belgeler.append((kelimeler, etiket))\n"
   ]
  },
  {
   "cell_type": "markdown",
   "id": "ac07b729-1b42-4271-8e50-bcfc6ba034db",
   "metadata": {},
   "source": [
    "* Her bir cümleyi temizleyip, etiketini yanına ekliyoruz.\n",
    "\n",
    "* Sonuç: ([“beğendim”, “ürün”], “pozitif”) gibi çiftler.\n",
    "\n",
    "Bu yapı, sonraki adımlarda özellik çıkarımı ve eğitim için kullanılır."
   ]
  },
  {
   "cell_type": "code",
   "execution_count": 8,
   "id": "de94930b-30f7-40e9-9ae2-7f445ffca050",
   "metadata": {},
   "outputs": [
    {
     "data": {
      "text/plain": [
       "[(['ürünü', 'beğendim'], 'pozitif'),\n",
       " (['harika', 'bir', 'deneyimdi'], 'pozitif'),\n",
       " (['bayıldım', 'kesinlikle', 'tavsiye', 'ederim'], 'pozitif'),\n",
       " (['ürün', 'zamanında', 'sorunsuz', 'geldi'], 'pozitif'),\n",
       " (['kalitesi', 'beklediğimden', 'iyi', 'çıktı'], 'pozitif'),\n",
       " (['satıcı', 'ilgiliydi', 'teşekkür', 'ederim'], 'pozitif'),\n",
       " (['yumuşacık', 'kullanışlı', 'bir', 'ürün'], 'pozitif'),\n",
       " (['kesinlikle', 'tekrar', 'alırım'], 'pozitif'),\n",
       " (['memnun', 'kaldım', 'herkese', 'öneririm'], 'pozitif'),\n",
       " (['kusursuz', 'hizmet', 'ellerinize', 'sağlık'], 'pozitif'),\n",
       " (['müşteri', 'hizmetleri', 'yardımcı', 'oldu'], 'pozitif'),\n",
       " (['paketleme', 'özenliydi'], 'pozitif'),\n",
       " (['tam', 'istediğim', 'geldi'], 'pozitif'),\n",
       " (['berbat', 'bir', 'deneyimdi'], 'negatif'),\n",
       " (['memnun', 'kalmadım'], 'negatif'),\n",
       " (['kargom', 'geç', 'geldi'], 'negatif'),\n",
       " (['ürün', 'görseldeki', 'değil'], 'negatif'),\n",
       " (['kalitesi', 'kötü'], 'negatif'),\n",
       " (['tam', 'bir', 'hayal', 'kırıklığı'], 'negatif'),\n",
       " (['eksik', 'ürün', 'gönderildi'], 'negatif'),\n",
       " (['asla', 'tavsiye', 'etmiyorum'], 'negatif'),\n",
       " (['müşteri', 'hizmetleri', 'ilgisizdi'], 'negatif'),\n",
       " (['kullanım', 'sonrası', 'hemen', 'bozuldu'], 'negatif'),\n",
       " (['satıcı', 'sorularıma', 'cevap', 'vermedi'], 'negatif'),\n",
       " (['paket', 'hasarlıydı'], 'negatif'),\n",
       " (['aldığıma', 'pişman', 'oldum'], 'negatif')]"
      ]
     },
     "execution_count": 8,
     "metadata": {},
     "output_type": "execute_result"
    }
   ],
   "source": [
    "belgeler"
   ]
  },
  {
   "cell_type": "markdown",
   "id": "c71ab521-620c-45a4-a706-4bca81d957e2",
   "metadata": {},
   "source": [
    "## Tüm Kelimeleri Toplamak"
   ]
  },
  {
   "cell_type": "code",
   "execution_count": 10,
   "id": "d98135d2-692f-49f9-a881-961cd7f39f47",
   "metadata": {},
   "outputs": [],
   "source": [
    "tum_kelimeler = []\n",
    "for kelime_listesi, _ in belgeler:\n",
    "    tum_kelimeler.extend(kelime_listesi)\n"
   ]
  },
  {
   "cell_type": "markdown",
   "id": "5b887c15-5ea9-4246-aeeb-beb6e3313d72",
   "metadata": {},
   "source": [
    "* Tüm cümlelerde geçen kelimeleri birleştiriyoruz.\n",
    "\n",
    "* Bu kelimelerden bir kelime hazinesi (vocabulary) oluşturacağız.\n",
    "\n",
    "Modelin \"hangi kelimeler duygusal anlam taşır?\" sorusuna cevap verebilmesi için bu adıma ihtiyacımız var."
   ]
  },
  {
   "cell_type": "code",
   "execution_count": null,
   "id": "e7678f25-f1ea-456c-9e98-b6d6a54109b1",
   "metadata": {},
   "outputs": [],
   "source": [
    "tum_kelimeler"
   ]
  },
  {
   "cell_type": "markdown",
   "id": "aed318c8-bad3-424e-bcd3-831dc070b8f4",
   "metadata": {},
   "source": [
    "## Kelime Frekansı & Özellik Listesi"
   ]
  },
  {
   "cell_type": "code",
   "execution_count": 15,
   "id": "0407076a-3677-4c07-972a-249c54a7a3ec",
   "metadata": {},
   "outputs": [],
   "source": [
    "kelime_frekanslari = nltk.FreqDist(tum_kelimeler)\n",
    "ozellikler = list(kelime_frekanslari.keys())\n"
   ]
  },
  {
   "cell_type": "markdown",
   "id": "fb340e3f-c9ea-4b7a-803d-3c9a9946d1ff",
   "metadata": {},
   "source": [
    "- FreqDist: Tüm kelimelerin kaç kez geçtiğini sayar (frekans analizi).\n",
    "\n",
    "- keys(): Kaç kere geçtiğine bakmadan sadece benzersiz kelimeleri alır.\n",
    "\n",
    "- ozellikler: Modelde kullanılacak kelime özellik vektörünün sütunlarını belirler.\n",
    "\n",
    "\n",
    "*  <b>Diyelim ki tum_kelimeler şöyle</b>\n",
    "\n",
    "tum_kelimeler = ['film', 'güzeldi', 'film', 'harikaydı', 'berbattı', 'film']\n",
    "\n",
    "FreqDist({'film': 3, 'güzeldi': 1, 'harikaydı': 1, 'berbattı': 1}) Yani \"film\" kelimesi 3 kez geçmiş.\n",
    "\n",
    "* <b>Anahtar kelimeleri al</b>\n",
    "\n",
    "['film', 'güzeldi', 'harikaydı', 'berbattı']\n",
    "\n",
    "* <b>Peki bu neden önemli?</b>\n",
    "\n",
    "Bu ozellikler listesi, her belgeyi (yorum, cümle vs.) BoW formatında şu sütunlara göre temsil etmek için kullanılır:\n",
    "\n",
    "| Belge   | film | güzeldi | harikaydı | berbattı |\n",
    "| ------- | ---- | ------- | --------- | -------- |\n",
    "| Yorum 1 | 1    | 1       | 0         | 0        |\n",
    "| Yorum 2 | 1    | 0       | 0         | 1        |\n",
    "\n"
   ]
  },
  {
   "cell_type": "markdown",
   "id": "556cd1f2-ca19-4b4a-97c2-7bb1009d79d7",
   "metadata": {},
   "source": [
    "## Özellik Çıkarımı Fonksiyonu"
   ]
  },
  {
   "cell_type": "code",
   "execution_count": 16,
   "id": "709950b3-3d23-425f-8195-3932a1522eec",
   "metadata": {},
   "outputs": [],
   "source": [
    "def document_features(document):\n",
    "    document_words = set(document)\n",
    "    features = {}\n",
    "    for word in ozellikler:\n",
    "        features[f\"contains({word})\"] = (word in document_words)\n",
    "    return features\n"
   ]
  },
  {
   "cell_type": "markdown",
   "id": "72b9b59a-a809-4838-b204-125f31729b7a",
   "metadata": {},
   "source": [
    "* Bir cümlede hangi önemli kelimeler geçiyor onu belirliyoruz.\n",
    "\n",
    "* Örneğin: \"berbat\" geçiyorsa → contains(berbat): True\n",
    "\n",
    "🎯 Böylece her cümleyi sayısal özelliklerle temsil ederiz. Bu, makine öğrenmesinin temelidir!"
   ]
  },
  {
   "cell_type": "markdown",
   "id": "f59e2d81-3f9e-45a0-a806-8d0e3f3f065a",
   "metadata": {},
   "source": [
    "## Model Eğitimi"
   ]
  },
  {
   "cell_type": "code",
   "execution_count": null,
   "id": "598b6286-75ec-498d-b1e5-b90268f4bdc6",
   "metadata": {},
   "outputs": [],
   "source": [
    "ozellikli_set = [(document_features(d), c) for (d, c) in belgeler]"
   ]
  },
  {
   "cell_type": "markdown",
   "id": "a544e797-1dad-4c89-ab87-4371549623d1",
   "metadata": {},
   "source": [
    "Her cümleyi, kelime temelli özellikleriyle birlikte etiketliyoruz.\n",
    "\n",
    "<b>Bu liste şuna benzer</b>\n",
    "\n",
    "[({\"contains(berbat)\": True, \"contains(harika)\": False}, \"negatif\"), ...]"
   ]
  },
  {
   "cell_type": "code",
   "execution_count": null,
   "id": "d96db008-330e-415e-a3c9-fa1090e5e604",
   "metadata": {},
   "outputs": [],
   "source": [
    "ozellikli_set"
   ]
  },
  {
   "cell_type": "code",
   "execution_count": 17,
   "id": "ea376034-1c13-4556-8ad2-09bfb97551b7",
   "metadata": {},
   "outputs": [],
   "source": [
    "classifier = nltk.NaiveBayesClassifier.train(ozellikli_set)\n"
   ]
  },
  {
   "cell_type": "markdown",
   "id": "785e576c-553b-4474-8323-ca64870a5141",
   "metadata": {},
   "source": [
    "<b>NaiveBayesClassifier</b>, NLTK kütüphanesindeki hazır bir sınıftır.\n",
    "Metin gibi veriler üzerinde sınıflandırma (classification) yapmak için kullanılır.\n",
    "Arka planda Naive Bayes algoritmasını kullanır.\n",
    "\n",
    "* Naive Bayes, olasılıklı bir modeldir. Her kelimenin sınıfla olan ilişkisini hesaplayarak tahmin yapar.\n",
    "\n",
    "<b>Örneğin:</b>\n",
    "\n",
    "Eğer “berbattı” kelimesi çoğunlukla “olumsuz” sınıfında geçiyorsa, model bu kelimeyi görünce olumsuz tahmini yapar."
   ]
  },
  {
   "cell_type": "markdown",
   "id": "4171cac2-f618-474e-9a93-9d779023a6c4",
   "metadata": {},
   "source": [
    "## Tahmin Etme"
   ]
  },
  {
   "cell_type": "code",
   "execution_count": 23,
   "id": "c0cb1bb0-90b3-4175-a4ea-e695d54fdb26",
   "metadata": {},
   "outputs": [
    {
     "name": "stdout",
     "output_type": "stream",
     "text": [
      "Tahmin: negatif\n"
     ]
    }
   ],
   "source": [
    "cumle = \"Be bu yemeği beğenmedim\"\n",
    "temiz = temizle(cumle)\n",
    "ozellikler_cumle = document_features(temiz)\n",
    "tahmin = classifier.classify(ozellikler_cumle)\n",
    "print(\"Tahmin:\", tahmin)\n"
   ]
  },
  {
   "cell_type": "markdown",
   "id": "184a83e2-5beb-4a37-883a-e987dc2584ac",
   "metadata": {},
   "source": [
    "<b>Ve modelimiz artık hiç görmediği bir cümlede pozitif/negatif yorum yapabiliyor!</b>"
   ]
  },
  {
   "cell_type": "code",
   "execution_count": null,
   "id": "c3af7323-c5d6-4101-88ee-cd1eadf52939",
   "metadata": {},
   "outputs": [],
   "source": []
  },
  {
   "cell_type": "code",
   "execution_count": null,
   "id": "a6f47fb7-831c-4fb9-bd26-3440f96898dd",
   "metadata": {},
   "outputs": [],
   "source": []
  }
 ],
 "metadata": {
  "kernelspec": {
   "display_name": "Python 3 (ipykernel)",
   "language": "python",
   "name": "python3"
  },
  "language_info": {
   "codemirror_mode": {
    "name": "ipython",
    "version": 3
   },
   "file_extension": ".py",
   "mimetype": "text/x-python",
   "name": "python",
   "nbconvert_exporter": "python",
   "pygments_lexer": "ipython3",
   "version": "3.12.7"
  }
 },
 "nbformat": 4,
 "nbformat_minor": 5
}
