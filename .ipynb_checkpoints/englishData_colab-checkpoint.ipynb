{
  "cells": [
    {
      "cell_type": "markdown",
      "source": [
        "## Hugging Face Nedir?"
      ],
      "metadata": {
        "id": "uMpBXbXPPdzi"
      }
    },
    {
      "cell_type": "markdown",
      "source": [
        "🤗 <b>Hugging Face</b>, doğal dil işleme (NLP) alanında açık kaynak araçlar ve modeller sunan bir platformdur.\n",
        "\n",
        "* Hem araştırmacılar hem geliştiriciler için oluşturulmuştur.\n",
        "\n",
        "* Dünyanın en büyük hazır dil modeli deposuna sahiptir."
      ],
      "metadata": {
        "id": "miFnarJ2Pm8S"
      }
    },
    {
      "cell_type": "markdown",
      "source": [
        "## Hugging Face Ne Sunar?\n",
        "\n",
        "1. <b>Transformers Kütüphanesi</b>\n",
        "* BERT, GPT, T5, RoBERTa gibi modelleri tek satırda kullanma imkânı\n",
        "\n",
        "* PyTorch & TensorFlow destekli"
      ],
      "metadata": {
        "id": "baPTrsfiP3mj"
      }
    },
    {
      "cell_type": "code",
      "source": [
        "from transformers import pipeline\n",
        "sentiment = pipeline(\"sentiment-analysis\")\n",
        "print(sentiment(\"Bu film harikaydı!\"))  # → {'label': 'POSITIVE'}\n"
      ],
      "metadata": {
        "colab": {
          "base_uri": "https://localhost:8080/",
          "height": 347,
          "referenced_widgets": [
            "c9a3a760e1ba4a478e80698fe20a7d3d",
            "5e508e145ee04158aa462b8918b68be0",
            "ca305c335d6843d79b1fa8cbb99e9025",
            "f7396465461e4dae8944de253f8c29b9",
            "e69aa6be791348c8b8b3a68dcfa57009",
            "e7d448cf13764c8c924bd608bcde20a3",
            "bcc4040ca5e64ca9a223fe5a26d1f246",
            "4c1ddfff48e04ad6998b57286a00f203",
            "4bc1bdbbf8a44a0499467a0897f44c11",
            "de8780ebdbaf46b88d84e42c5789062c",
            "44e819b124c84424bf36cec8f0c76288",
            "be14877fdf3d43a18d59eef890e6d327",
            "5b1d5535d36e41cbbafe2ed4205d1fa4",
            "054004351a784d6492d30a46628e9913",
            "e93db688b8ee44068238e254855c2e92",
            "b6b8b2cb8e7b4f89aa92270ae6ff5dfb",
            "ef2ee750fa9542d5ab5d0c2fcdad04f8",
            "97528be229144e0fabe3b5aeb487c2d8",
            "198e188823884e6fb2fb888d16c4c97f",
            "0d2e677954a646bc9f3c04697a601a0b",
            "b53a48dee7124ea4bdea084a0700ddd5",
            "dbc70fba4fa84a71844ae8257b37c1fa",
            "eb3ea57db689464d8b1a8246567d337a",
            "04f5c57a11ba4f3497781b53d2b24c9b",
            "77c7a284f2ef4e2d80b73705a49da6d6",
            "95cfb33055b0439195f05928782fa036",
            "d9424c59409042c8bf4027f7525ab63f",
            "a80530ef62394c08b880dbd4c9769121",
            "b6d3cd89b5424d399d045ff67268b7c2",
            "acb757350d6a47e6a2d40b98bec3d481",
            "66bbf289dfef49e8b4ab58f017fb4379",
            "b3977cf6344e4ce285f8df6b278efcec",
            "9af197e147824c6ca23fedb02bb7e4cf",
            "0d5315a47b62463aa4bf88c50a7ed040",
            "0ed7125dbeed4ec8ad2e42ddd11bba82",
            "fcc3917ebd224a1a8abe5982e20acc3e",
            "14cba419db154397b4e8fafc43bb797e",
            "b3a4ffa0e9ab4a6dad332768e0c20393",
            "13ec515e02ef4e369db44b78e6a3e11f",
            "ef637728bfa04044a4173507f20477ed",
            "8b0f95b734e74f4b9a81c68f1d9078ec",
            "a13d767d347b49cb933ed91809ede984",
            "ede2a38614ca41239031ba53201bae31",
            "d79c72d9004649759a4de58b0ae39f78"
          ]
        },
        "id": "-wB2u1baQINm",
        "outputId": "e6f08709-aa0d-45bd-d0be-cb37b5fc6afd"
      },
      "execution_count": 1,
      "outputs": [
        {
          "output_type": "stream",
          "name": "stderr",
          "text": [
            "No model was supplied, defaulted to distilbert/distilbert-base-uncased-finetuned-sst-2-english and revision 714eb0f (https://huggingface.co/distilbert/distilbert-base-uncased-finetuned-sst-2-english).\n",
            "Using a pipeline without specifying a model name and revision in production is not recommended.\n",
            "/usr/local/lib/python3.11/dist-packages/huggingface_hub/utils/_auth.py:94: UserWarning: \n",
            "The secret `HF_TOKEN` does not exist in your Colab secrets.\n",
            "To authenticate with the Hugging Face Hub, create a token in your settings tab (https://huggingface.co/settings/tokens), set it as secret in your Google Colab and restart your session.\n",
            "You will be able to reuse this secret in all of your notebooks.\n",
            "Please note that authentication is recommended but still optional to access public models or datasets.\n",
            "  warnings.warn(\n"
          ]
        },
        {
          "output_type": "display_data",
          "data": {
            "text/plain": [
              "config.json:   0%|          | 0.00/629 [00:00<?, ?B/s]"
            ],
            "application/vnd.jupyter.widget-view+json": {
              "version_major": 2,
              "version_minor": 0,
              "model_id": "c9a3a760e1ba4a478e80698fe20a7d3d"
            }
          },
          "metadata": {}
        },
        {
          "output_type": "display_data",
          "data": {
            "text/plain": [
              "model.safetensors:   0%|          | 0.00/268M [00:00<?, ?B/s]"
            ],
            "application/vnd.jupyter.widget-view+json": {
              "version_major": 2,
              "version_minor": 0,
              "model_id": "be14877fdf3d43a18d59eef890e6d327"
            }
          },
          "metadata": {}
        },
        {
          "output_type": "display_data",
          "data": {
            "text/plain": [
              "tokenizer_config.json:   0%|          | 0.00/48.0 [00:00<?, ?B/s]"
            ],
            "application/vnd.jupyter.widget-view+json": {
              "version_major": 2,
              "version_minor": 0,
              "model_id": "eb3ea57db689464d8b1a8246567d337a"
            }
          },
          "metadata": {}
        },
        {
          "output_type": "display_data",
          "data": {
            "text/plain": [
              "vocab.txt: 0.00B [00:00, ?B/s]"
            ],
            "application/vnd.jupyter.widget-view+json": {
              "version_major": 2,
              "version_minor": 0,
              "model_id": "0d5315a47b62463aa4bf88c50a7ed040"
            }
          },
          "metadata": {}
        },
        {
          "output_type": "stream",
          "name": "stderr",
          "text": [
            "Device set to use cuda:0\n"
          ]
        },
        {
          "output_type": "stream",
          "name": "stdout",
          "text": [
            "[{'label': 'POSITIVE', 'score': 0.9843607544898987}]\n"
          ]
        }
      ]
    },
    {
      "cell_type": "markdown",
      "source": [
        "2. Datasets Kütüphanesi\n",
        "* Binlerce etiketli veri setini tek satırda indir"
      ],
      "metadata": {
        "id": "hnqrTxc9Qi9y"
      }
    },
    {
      "cell_type": "code",
      "source": [
        "from datasets import load_dataset\n",
        "dataset = load_dataset(\"imdb\")\n",
        "# Select the desired columns before converting to dictionary\n",
        "dataset"
      ],
      "metadata": {
        "colab": {
          "base_uri": "https://localhost:8080/"
        },
        "id": "oHc1wcIkQrSr",
        "outputId": "2f2d1416-38be-48ad-8e81-30f63406d8ff"
      },
      "execution_count": 8,
      "outputs": [
        {
          "output_type": "execute_result",
          "data": {
            "text/plain": [
              "DatasetDict({\n",
              "    train: Dataset({\n",
              "        features: ['text', 'label'],\n",
              "        num_rows: 25000\n",
              "    })\n",
              "    test: Dataset({\n",
              "        features: ['text', 'label'],\n",
              "        num_rows: 25000\n",
              "    })\n",
              "    unsupervised: Dataset({\n",
              "        features: ['text', 'label'],\n",
              "        num_rows: 50000\n",
              "    })\n",
              "})"
            ]
          },
          "metadata": {},
          "execution_count": 8
        }
      ]
    },
    {
      "cell_type": "markdown",
      "source": [
        "<b>3. Model Hub</b>\n",
        "300.000’den fazla hazır model\n",
        "\n",
        "Türkçe dahil birçok dil için destek\n",
        "\n",
        "Yüz binlerce eğitilmiş model barındırır.\n",
        "\n",
        "Kendi modelini paylaşabilir ya da başkalarının modelini kullanabilirsin.\n",
        "\n",
        "Örnek:\n",
        "\n",
        "dbmdz/bert-base-turkish-cased → Türkçe BERT modeli\n",
        "\n",
        "deepset/roberta-base-squad2 → Soru-cevap için hazır RoBERTa\n",
        "\n",
        "<b>4. Inference API & AutoTrain</b>\n",
        "\n",
        "Kod yazmadan model eğitme ve test etme imkânı"
      ],
      "metadata": {
        "id": "4yKtPMSKRdBK"
      }
    },
    {
      "cell_type": "code",
      "source": [],
      "metadata": {
        "id": "bMHO9-9kRWZj"
      },
      "execution_count": null,
      "outputs": []
    },
    {
      "cell_type": "markdown",
      "source": [
        "# Fine-Tuning Nedir?\n",
        "\n",
        "\"Hazır bir modeli, kendi verinle özelleştirme işlemidir.\"\n",
        "\n",
        "\n",
        "<b>Temel Tanım:</b>\n",
        "\n",
        "Fine-tuning, büyük veriyle önceden eğitilmiş bir modelin (pretrained model) küçük ve özel bir veri setiyle tekrar eğitilmesidir.\n",
        "\n",
        "Böylece model:\n",
        "\n",
        "Zaten genel dili öğrenmiştir ✅\n",
        "\n",
        "Şimdi senin konuna göre ince ayar yapılır 🔧"
      ],
      "metadata": {
        "id": "dHq_TpsqSYvs"
      }
    },
    {
      "cell_type": "markdown",
      "source": [
        "<b>Önceden Eğitilmiş Model (Pretrained Model) Nedir?</b>\n",
        "\n",
        "Devasa veriyle eğitilmiş dil modelleridir.\n",
        "\n",
        "Örnek: BERT, GPT, T5, RoBERTa\n",
        "\n",
        "Genel bilgileri zaten öğrenmiştir: dil yapısı, gramer, kelime ilişkisi..."
      ],
      "metadata": {
        "id": "epHOO2IXS3ls"
      }
    },
    {
      "cell_type": "markdown",
      "source": [
        "<b>Teknik Açıdan Ne Olur?</b>\n",
        "\n",
        "Modelin son katmanları (output layer) genellikle yeniden eğitilir.\n",
        "\n",
        "Bazen tüm model de ince ince güncellenir.\n",
        "\n",
        "Öğrenme oranı (learning rate) küçük tutulur → “ince ayar” yapılır."
      ],
      "metadata": {
        "id": "3EW_4aOmTPHm"
      }
    },
    {
      "cell_type": "markdown",
      "source": [
        "<b>Örnek Senaryo:</b>\n",
        "\n",
        "Diyelim ki elimde 1000 tane Türkçe yorum var (olumlu/olumsuz).\n",
        "\n",
        "Sen:\n",
        "\n",
        "* BERT modelini alırsın.\n",
        "\n",
        "* Son katmanını değiştirirsin (2 sınıf için).\n",
        "\n",
        "* Yeni verinle birkaç epoch eğitirsin.\n",
        "\n",
        "* Artık model senin verini çok iyi anlar.\n",
        "\n"
      ],
      "metadata": {
        "id": "oRL8ZRqDThie"
      }
    },
    {
      "cell_type": "code",
      "source": [
        "gpu_info = !nvidia-smi\n",
        "gpu_info = '\\n'.join(gpu_info)\n",
        "if gpu_info.find('failed') >= 0:\n",
        "  print('Not connected to a GPU')\n",
        "else:\n",
        "  print(gpu_info)"
      ],
      "metadata": {
        "colab": {
          "base_uri": "https://localhost:8080/"
        },
        "id": "wXdWj33pbtCt",
        "outputId": "3b5285b5-b382-47cd-9166-14d858143bf0"
      },
      "execution_count": null,
      "outputs": [
        {
          "output_type": "stream",
          "name": "stdout",
          "text": [
            "Thu Jul 31 10:37:05 2025       \n",
            "+-----------------------------------------------------------------------------------------+\n",
            "| NVIDIA-SMI 550.54.15              Driver Version: 550.54.15      CUDA Version: 12.4     |\n",
            "|-----------------------------------------+------------------------+----------------------+\n",
            "| GPU  Name                 Persistence-M | Bus-Id          Disp.A | Volatile Uncorr. ECC |\n",
            "| Fan  Temp   Perf          Pwr:Usage/Cap |           Memory-Usage | GPU-Util  Compute M. |\n",
            "|                                         |                        |               MIG M. |\n",
            "|=========================================+========================+======================|\n",
            "|   0  Tesla T4                       Off |   00000000:00:04.0 Off |                    0 |\n",
            "| N/A   53C    P8              9W /   70W |       0MiB /  15360MiB |      0%      Default |\n",
            "|                                         |                        |                  N/A |\n",
            "+-----------------------------------------+------------------------+----------------------+\n",
            "                                                                                         \n",
            "+-----------------------------------------------------------------------------------------+\n",
            "| Processes:                                                                              |\n",
            "|  GPU   GI   CI        PID   Type   Process name                              GPU Memory |\n",
            "|        ID   ID                                                               Usage      |\n",
            "|=========================================================================================|\n",
            "|  No running processes found                                                             |\n",
            "+-----------------------------------------------------------------------------------------+\n"
          ]
        }
      ]
    },
    {
      "cell_type": "markdown",
      "source": [
        "# Kütüphanalerin Yüklenmesi"
      ],
      "metadata": {
        "id": "M-vpQ_4CUAEA"
      }
    },
    {
      "cell_type": "code",
      "source": [
        "import pandas as pd\n",
        "from datasets import Dataset, DatasetDict\n",
        "# Hugging Face formatında veri seti oluşturmak ve bölmek için kullanılır\n",
        "\n",
        "from sklearn.model_selection import train_test_split\n",
        "# Veriyi eğitim (train) ve test olarak rastgele ayırmak için kullanılır\n",
        "\n",
        "from transformers import T5Tokenizer, T5ForConditionalGeneration\n",
        "# ✏️ T5 modelini kullanmak için:\n",
        "\n",
        "from transformers import Trainer, TrainingArguments, DataCollatorForSeq2Seq\n",
        "# ⚙️ Modeli eğitmek için kullanılır:\n",
        "# - Trainer → Eğitim döngüsünü yönetir (fit etme, değerlendirme)\n",
        "# - TrainingArguments → Eğitim ayarları (batch size, epoch sayısı vs.)\n",
        "# - DataCollatorForSeq2Seq → Giriş ve çıkışları padding'li şekilde modele hazırlar\n"
      ],
      "metadata": {
        "id": "nmmHS7yM3xRL"
      },
      "execution_count": null,
      "outputs": []
    },
    {
      "cell_type": "markdown",
      "source": [
        "## Veri Hazırlığı"
      ],
      "metadata": {
        "id": "kDtX2Cl8cLF_"
      }
    },
    {
      "cell_type": "code",
      "source": [
        "import pandas as pd\n",
        "from datasets import Dataset, DatasetDict\n",
        "from sklearn.model_selection import train_test_split\n",
        "\n",
        "\n",
        "# 📁 CSV'yi oku ve kolonları adlandır\n",
        "df = pd.read_csv(\"/content/ai-medical-chatbot.csv\")\n",
        "df.columns = [\"question\", \"patient\", \"doctor\"]\n",
        "\n",
        "# 🧹 Temizlik işlemleri\n",
        "df.dropna(inplace=True)\n",
        "df = df[df[\"question\"].str.len() > 10]\n",
        "df = df[df[\"doctor\"].str.len() > 20]\n",
        "\n",
        "#  İlk 50.000 örneği rastgele al\n",
        "df = df.sample(n=50000, random_state=42).reset_index(drop=True)\n"
      ],
      "metadata": {
        "id": "nFFDJze431Yf"
      },
      "execution_count": null,
      "outputs": []
    },
    {
      "cell_type": "markdown",
      "source": [
        "## Veri Görselleştirme"
      ],
      "metadata": {
        "id": "Dco8N0kydXrt"
      }
    },
    {
      "cell_type": "code",
      "source": [
        "import matplotlib.pyplot as plt\n",
        "import seaborn as sns\n",
        "\n",
        "df[\"question_len\"] = df[\"question\"].str.len()\n",
        "plt.figure(figsize=(10,6))\n",
        "sns.histplot(df[\"question_len\"], bins=50, kde=True)\n",
        "plt.title(\"📝 Soru (Description) Uzunluk Dağılımı\")\n",
        "plt.xlabel(\"Karakter Sayısı\")\n",
        "plt.ylabel(\"Soru Sayısı\")\n",
        "plt.show()"
      ],
      "metadata": {
        "colab": {
          "base_uri": "https://localhost:8080/",
          "height": 500
        },
        "id": "Jv-aXHI4PDbU",
        "outputId": "cbd8ffac-c236-4f7c-960b-85d366dcf2e4"
      },
      "execution_count": null,
      "outputs": [
        {
          "output_type": "stream",
          "name": "stderr",
          "text": [
            "/usr/local/lib/python3.11/dist-packages/IPython/core/pylabtools.py:151: UserWarning: Glyph 128221 (\\N{MEMO}) missing from font(s) DejaVu Sans.\n",
            "  fig.canvas.print_figure(bytes_io, **kw)\n"
          ]
        },
        {
          "output_type": "display_data",
          "data": {
            "text/plain": [
              "<Figure size 1000x600 with 1 Axes>"
            ],
            "image/png": "[encoded data removed]"
          },
          "metadata": {}
        }
      ]
    },
    {
      "cell_type": "markdown",
      "source": [
        "Bu grafikte, soruların çoğunun 40–60 karakter uzunluğunda olduğunu görüyoruz. Bu da veri setinin büyük kısmının orta uzunlukta ve tutarlı olduğunu gösterir. Çok kısa ve çok uzun sorular nadir, bu da veri kalitesinin iyi olduğunu ve model eğitimi için max_length ayarının 80 civarında tutulabileceğini gösterir."
      ],
      "metadata": {
        "id": "sezbklAmWa4j"
      }
    },
    {
      "cell_type": "code",
      "source": [
        "df[\"context_len\"] = df[\"patient\"].str.len()\n",
        "plt.figure(figsize=(10,6))\n",
        "sns.histplot(df[\"context_len\"], bins=50, kde=True, color=\"orange\")\n",
        "plt.title(\"🧑‍⚕️ Hasta Açıklaması (Patient) Uzunluk Dağılımı\")\n",
        "plt.xlabel(\"Karakter Sayısı\")\n",
        "plt.ylabel(\"Bağlam Sayısı\")\n",
        "plt.show()\n"
      ],
      "metadata": {
        "colab": {
          "base_uri": "https://localhost:8080/",
          "height": 494
        },
        "id": "BoK1v6v2Pqsn",
        "outputId": "6a570bd5-1e80-48a3-855a-707acc9456a5"
      },
      "execution_count": null,
      "outputs": [
        {
          "output_type": "stream",
          "name": "stderr",
          "text": [
            "/usr/local/lib/python3.11/dist-packages/IPython/core/pylabtools.py:151: UserWarning: Glyph 129489 (\\N{ADULT}) missing from font(s) DejaVu Sans.\n",
            "  fig.canvas.print_figure(bytes_io, **kw)\n"
          ]
        },
        {
          "output_type": "display_data",
          "data": {
            "text/plain": [
              "<Figure size 1000x600 with 1 Axes>"
            ],
            "image/png": "[encoded data removed]"
          },
          "metadata": {}
        }
      ]
    },
    {
      "cell_type": "markdown",
      "source": [
        "Bu grafikte, hasta açıklamalarının büyük çoğunluğunun 0–500 karakter arasında yoğunlaştığını görüyoruz.\n",
        "Az sayıda çok uzun açıklama da var ama bunlar istisna.\n",
        "Bu nedenle model eğitimi için max_length=512 gibi bir değer uygun olabilir."
      ],
      "metadata": {
        "id": "3Qe_FVS9WyBF"
      }
    },
    {
      "cell_type": "code",
      "source": [
        "df[\"answer_len\"] = df[\"doctor\"].str.len()\n",
        "plt.figure(figsize=(10,6))\n",
        "sns.histplot(df[\"answer_len\"], bins=50, kde=True, color=\"green\")\n",
        "plt.title(\"💬 Doktor Cevabı Uzunluk Dağılımı\")\n",
        "plt.xlabel(\"Karakter Sayısı\")\n",
        "plt.ylabel(\"Cevap Sayısı\")\n",
        "plt.show()\n"
      ],
      "metadata": {
        "colab": {
          "base_uri": "https://localhost:8080/",
          "height": 495
        },
        "id": "4dF_2ot0Ptn8",
        "outputId": "fb5fd0a3-2803-4338-daf3-6823e806cfef"
      },
      "execution_count": null,
      "outputs": [
        {
          "output_type": "stream",
          "name": "stderr",
          "text": [
            "/usr/local/lib/python3.11/dist-packages/IPython/core/pylabtools.py:151: UserWarning: Glyph 128172 (\\N{SPEECH BALLOON}) missing from font(s) DejaVu Sans.\n",
            "  fig.canvas.print_figure(bytes_io, **kw)\n"
          ]
        },
        {
          "output_type": "display_data",
          "data": {
            "text/plain": [
              "<Figure size 1000x600 with 1 Axes>"
            ],
            "image/png": "[encoded data removed]"
          },
          "metadata": {}
        }
      ]
    },
    {
      "cell_type": "markdown",
      "source": [
        "Bu grafikte doktor cevaplarının çoğu 200–800 karakter arasında toplanmış durumda.\n",
        "Uzun cevaplar (1000+ karakter) daha az, 4000+ karakter nadir, ama tamamen yok değil.\n",
        "Bu durumda max_target_length=1024 gibi bir değer yeterli olur.\n",
        "Hem detaylı cevapları kapsar hem modelin verimli çalışmasını sağlar."
      ],
      "metadata": {
        "id": "IrWYsAGiXD32"
      }
    },
    {
      "cell_type": "code",
      "source": [
        "df[\"first_words\"] = df[\"question\"].str.split().str[0]\n",
        "top_starts = df[\"first_words\"].value_counts().head(10)\n",
        "\n",
        "plt.figure(figsize=(10,6))\n",
        "sns.barplot(x=top_starts.values, y=top_starts.index, palette=\"viridis\")\n",
        "plt.title(\"🚀 En Çok Kullanılan İlk Soru Kelimeleri\")\n",
        "plt.xlabel(\"Frekans\")\n",
        "plt.ylabel(\"İlk Kelime\")\n",
        "plt.show()\n"
      ],
      "metadata": {
        "colab": {
          "base_uri": "https://localhost:8080/",
          "height": 582
        },
        "id": "6oK0VsA5PvPv",
        "outputId": "8a47aacc-801f-4616-9178-89d3b5a74847"
      },
      "execution_count": null,
      "outputs": [
        {
          "output_type": "stream",
          "name": "stderr",
          "text": [
            "/tmp/ipython-input-264108794.py:5: FutureWarning: \n",
            "\n",
            "Passing `palette` without assigning `hue` is deprecated and will be removed in v0.14.0. Assign the `y` variable to `hue` and set `legend=False` for the same effect.\n",
            "\n",
            "  sns.barplot(x=top_starts.values, y=top_starts.index, palette=\"viridis\")\n",
            "/usr/local/lib/python3.11/dist-packages/IPython/core/pylabtools.py:151: UserWarning: Glyph 128640 (\\N{ROCKET}) missing from font(s) DejaVu Sans.\n",
            "  fig.canvas.print_figure(bytes_io, **kw)\n"
          ]
        },
        {
          "output_type": "display_data",
          "data": {
            "text/plain": [
              "<Figure size 1000x600 with 1 Axes>"
            ],
            "image/png": "[encoded data removed]"
          },
          "metadata": {}
        }
      ]
    },
    {
      "cell_type": "markdown",
      "source": [
        "## Input-Output hazırlığı"
      ],
      "metadata": {
        "id": "pj51bhY8efvf"
      }
    },
    {
      "cell_type": "code",
      "source": [
        "# 🔄 T5 formatı için input-output hazırlığı\n",
        "df[\"input_text\"] = \"question: \" + df[\"question\"] + \" context: \" + df[\"patient\"]\n",
        "df[\"target_text\"] = df[\"doctor\"]"
      ],
      "metadata": {
        "id": "jBTBVdXYQG12"
      },
      "execution_count": null,
      "outputs": []
    },
    {
      "cell_type": "markdown",
      "source": [
        "Her satır için yeni bir sütun (input_text) oluşturur.\n",
        "\n",
        "Format şu olur:\n",
        "\n",
        "\n",
        "question: [SORU METNİ] context: [HASTA AÇIKLAMASI]\n",
        "\n",
        "Yani T5’e şunu söylersin:\n",
        "\"Bu soru ve bağlam üzerinden doğru cevabı üret!\"\n",
        "\n",
        "| question          | patient                    | input\\_text                                                   |\n",
        "| ----------------- | -------------------------- | ------------------------------------------------------------- |\n",
        "| \"Tedavi ne olur?\" | \"Dizimde 3 aydır ağrı var\" | `question: Tedavi ne olur? context: Dizimde 3 aydır ağrı var` |\n",
        "\n",
        "\n"
      ],
      "metadata": {
        "id": "N1iiVwqfXhE_"
      }
    },
    {
      "cell_type": "markdown",
      "source": [
        "# Eğitim ve Test verilerini Belirleme"
      ],
      "metadata": {
        "id": "rfD5plN5eLke"
      }
    },
    {
      "cell_type": "code",
      "source": [
        "# 🔀 Train-test ayır\n",
        "train_df, test_df = train_test_split(df, test_size=0.15, random_state=42)"
      ],
      "metadata": {
        "id": "qrBRXjjvQJtY"
      },
      "execution_count": null,
      "outputs": []
    },
    {
      "cell_type": "markdown",
      "source": [
        "# HuggingFace Formatına çevir"
      ],
      "metadata": {
        "id": "z1Umk1lFeWaO"
      }
    },
    {
      "cell_type": "code",
      "source": [
        "# 🤗 HuggingFace Dataset'e çevir\n",
        "dataset = DatasetDict({\n",
        "    \"train\": Dataset.from_pandas(train_df[[\"input_text\", \"target_text\"]]),\n",
        "    \"test\": Dataset.from_pandas(test_df[[\"input_text\", \"target_text\"]])\n",
        "})"
      ],
      "metadata": {
        "id": "Z3n6nb6lQMiz"
      },
      "execution_count": null,
      "outputs": []
    },
    {
      "cell_type": "markdown",
      "source": [
        "## Model & Tokenizer"
      ],
      "metadata": {
        "id": "bCnNEHTddeon"
      }
    },
    {
      "cell_type": "code",
      "source": [
        "model_ckpt = \"google/flan-t5-base\"   # Hugging Face üzerindeki FLAN-T5-base modelinin adını belirler\n",
        "\n",
        "tokenizer = T5Tokenizer.from_pretrained(model_ckpt)  # FLAN-T5 modeline uygun tokenizer'ı indirir (metni sayıya çevirir)\n",
        "model = T5ForConditionalGeneration.from_pretrained(model_ckpt)  # FLAN-T5 modelini indirir ve metin üretimi için hazırlar\n"
      ],
      "metadata": {
        "colab": {
          "base_uri": "https://localhost:8080/"
        },
        "id": "jFVJf09k33a7",
        "outputId": "a628fb3c-b545-44d2-8e5c-238f61c2ba4c"
      },
      "execution_count": null,
      "outputs": [
        {
          "output_type": "stream",
          "name": "stderr",
          "text": [
            "/usr/local/lib/python3.11/dist-packages/huggingface_hub/utils/_auth.py:94: UserWarning: \n",
            "The secret `HF_TOKEN` does not exist in your Colab secrets.\n",
            "To authenticate with the Hugging Face Hub, create a token in your settings tab (https://huggingface.co/settings/tokens), set it as secret in your Google Colab and restart your session.\n",
            "You will be able to reuse this secret in all of your notebooks.\n",
            "Please note that authentication is recommended but still optional to access public models or datasets.\n",
            "  warnings.warn(\n",
            "You are using the default legacy behaviour of the <class 'transformers.models.t5.tokenization_t5.T5Tokenizer'>. This is expected, and simply means that the `legacy` (previous) behavior will be used so nothing changes for you. If you want to use the new behaviour, set `legacy=False`. This should only be set if you understand what it means, and thoroughly read the reason why this was added as explained in https://github.com/huggingface/transformers/pull/24565\n"
          ]
        }
      ]
    },
    {
      "cell_type": "markdown",
      "source": [
        "## Preprocess Fonksiyonu"
      ],
      "metadata": {
        "id": "o0GDif8KdrTA"
      }
    },
    {
      "cell_type": "markdown",
      "source": [
        " Her veri örneğini modele uygun hale getirecek fonksiyon"
      ],
      "metadata": {
        "id": "wW_NDK3qZGXw"
      }
    },
    {
      "cell_type": "code",
      "source": [
        "def preprocess_function(example):\n",
        "    model_inputs = tokenizer(\n",
        "        example[\"input_text\"], # input_text'i tokenize et (yani kelimeleri sayıya çevir)\n",
        "        max_length=512,        # ⏱️ En fazla 512 token al (çok uzunsa kes)\n",
        "        padding=\"max_length\",  # 🧱 Kısa olanları 512'ye kadar pad et (doldur)\n",
        "        truncation=True        # ✂️ Uzun olanları kes\n",
        "    )\n",
        "\n",
        "    with tokenizer.as_target_tokenizer():\n",
        "        labels = tokenizer(\n",
        "            example[\"target_text\"],\n",
        "            max_length=128,\n",
        "            padding=\"max_length\",\n",
        "            truncation=True\n",
        "        )\n",
        "\n",
        "    model_inputs[\"labels\"] = labels[\"input_ids\"]\n",
        "    return model_inputs\n",
        "\n",
        "tokenized_dataset = dataset.map(preprocess_function, batched=True)\n"
      ],
      "metadata": {
        "colab": {
          "base_uri": "https://localhost:8080/",
          "height": 137,
          "referenced_widgets": [
            "e76ad0914e3d47e0b15ab4ea5dee3621",
            "7c624e3e506c4287ba842e476f23be52",
            "293db28f071e400f935d57ecaef758ed",
            "c6a7d169857642d79b04e830a3a8841e",
            "8b37e568e7b54fbbbecb69777f8bb5c8",
            "a5d4d20c6b64436baea17b8862f371f5",
            "140cf13e5ba54ccab0d90371ff61370b",
            "5841f28dfb624e85a4c03c27d08601e8",
            "1896514666824e9c9acd25091468bcd9",
            "0dae60ad98684e859384651d15af4213",
            "1a18c7ca86e24782950a1533c4b4d989",
            "04ad1f5ecbd94f7face55dfeaae701e0",
            "f3f51f17f06c4117af99dbfa568ac3d4",
            "7848cb6bdddd493c8d718399bf596c43",
            "fe0b3ef9743440aabad768ded0ae7d8c",
            "346548a4e09b49e0a2a006885e801874",
            "1d33f6dd17a94861828d7639365b6551",
            "6efcdfcc4e9747769e6fe34292caf939",
            "952996ab80c0468a828d53fc944bed55",
            "8279525c947445efbf9da2475f90f377",
            "6182a1202f9346f6bf70334344203444",
            "7c9d6336f9974bd6bc651a86de4ac3e0"
          ]
        },
        "id": "SdZGHHN3359Z",
        "outputId": "ac580cd1-3dd1-4335-a4eb-04012b44fda6"
      },
      "execution_count": null,
      "outputs": [
        {
          "output_type": "display_data",
          "data": {
            "text/plain": [
              "Map:   0%|          | 0/34000 [00:00<?, ? examples/s]"
            ],
            "application/vnd.jupyter.widget-view+json": {
              "version_major": 2,
              "version_minor": 0,
              "model_id": "e76ad0914e3d47e0b15ab4ea5dee3621"
            }
          },
          "metadata": {}
        },
        {
          "output_type": "stream",
          "name": "stderr",
          "text": [
            "/usr/local/lib/python3.11/dist-packages/transformers/tokenization_utils_base.py:3950: UserWarning: `as_target_tokenizer` is deprecated and will be removed in v5 of Transformers. You can tokenize your labels by using the argument `text_target` of the regular `__call__` method (either in the same call as your input texts if you use the same keyword arguments, or in a separate call.\n",
            "  warnings.warn(\n"
          ]
        },
        {
          "output_type": "display_data",
          "data": {
            "text/plain": [
              "Map:   0%|          | 0/6000 [00:00<?, ? examples/s]"
            ],
            "application/vnd.jupyter.widget-view+json": {
              "version_major": 2,
              "version_minor": 0,
              "model_id": "04ad1f5ecbd94f7face55dfeaae701e0"
            }
          },
          "metadata": {}
        }
      ]
    },
    {
      "cell_type": "markdown",
      "source": [
        "## Eğitim Ayarları"
      ],
      "metadata": {
        "id": "eTcA9xgkd1B4"
      }
    },
    {
      "cell_type": "code",
      "source": [
        "from transformers import TrainingArguments\n",
        "\n",
        "training_args = TrainingArguments(\n",
        "    output_dir=\"./flan_t5_qa_model\",    # Eğitilen modelin kayıt edileceği klasör\n",
        "    eval_strategy=\"epoch\",              # Her epoch sonunda doğrulama (evaluation) yap\n",
        "    save_strategy=\"epoch\",              # Her epoch sonunda modeli kaydet\n",
        "    learning_rate=3e-4,                 # Öğrenme oranı (ne kadar hızlı öğrenileceği)\n",
        "    per_device_train_batch_size=8,      # Her GPU/CPU başına eğitimde işlenecek örnek sayısı\n",
        "    per_device_eval_batch_size=8,       # Doğrulama sırasında her cihazda kullanılacak örnek sayısı\n",
        "    num_train_epochs=5,                 # Eğitim boyunca verisetinin kaç kez tekrarlanacağı\n",
        "    weight_decay=0.01,                  # Ağırlık çürümesi — overfitting’i azaltmaya yardımcı olur\n",
        "    logging_strategy=\"steps\",           # Her belli adımda (steps) loglama yapılacak\n",
        "    logging_steps=20,                   # Her 20 adımda bir loglama (kayıt) yapılır\n",
        "    report_to=\"none\",                   # wandb veya tensorboard'a değil, sadece terminale log yaz\n",
        "    disable_tqdm=False,                 # İlerleme çubuğunu aktif tut (vizyonu göster)\n",
        "    push_to_hub=False,                  # Hugging Face Hub'a otomatik olarak model gönderme (kapalı)\n",
        "    save_total_limit=1                  # Sadece son 1 modeli kaydet (yer kaplamasın)\n",
        ")\n"
      ],
      "metadata": {
        "id": "DHGNoVez3_qv"
      },
      "execution_count": null,
      "outputs": []
    },
    {
      "cell_type": "markdown",
      "source": [
        "## Trainer Tanımı ve Eğitim"
      ],
      "metadata": {
        "id": "0ARJ30VXd93Z"
      }
    },
    {
      "cell_type": "code",
      "source": [
        "data_collator = DataCollatorForSeq2Seq(tokenizer=tokenizer, model=model)\n",
        "# 📦 Veri gruplayıcı: padding, attention mask gibi detayları otomatik ayarlar ve modele hazır hale getirir\n",
        "\n",
        "\n",
        "trainer = Trainer(\n",
        "    model=model,                              # Eğitilecek olan T5 modeli\n",
        "    args=training_args,                       # Eğitim ayarları (learning rate, batch size, epoch vs.)\n",
        "    train_dataset=tokenized_dataset[\"train\"], # Eğitim verisi\n",
        "    eval_dataset=tokenized_dataset[\"test\"],   # Doğrulama (test) verisi\n",
        "    tokenizer=tokenizer,                      # Tokenizer, loglama ve değerlendirme sırasında gereklidir\n",
        "    data_collator=data_collator               # Dataları modele uygun biçimde gruplar (padding, truncation)\n",
        ")\n",
        "\n",
        "trainer.train()\n"
      ],
      "metadata": {
        "id": "PV1hfz_r4Bdn"
      },
      "execution_count": null,
      "outputs": []
    },
    {
      "cell_type": "markdown",
      "source": [
        "## Modelin Kaydedilmesi"
      ],
      "metadata": {
        "id": "5ZeGe39AeAFT"
      }
    },
    {
      "cell_type": "code",
      "source": [
        "trainer.save_model(\"flan_t5_qa_model\")\n",
        "tokenizer.save_pretrained(\"flan_t5_qa_model\")"
      ],
      "metadata": {
        "id": "R1Jgoa2k4E88"
      },
      "execution_count": null,
      "outputs": []
    },
    {
      "cell_type": "markdown",
      "source": [
        "## Model Testi"
      ],
      "metadata": {
        "id": "qKWluvNZeEhR"
      }
    },
    {
      "cell_type": "code",
      "source": [
        "import torch\n",
        "\n",
        "def generate_answer(question, context):\n",
        "    input_text = f\"question: {question} context: {context}\"\n",
        "    inputs = tokenizer(input_text, return_tensors=\"pt\", max_length=512, truncation=True)\n",
        "\n",
        "    # Move input tensors to the same device as the model\n",
        "    device = model.device\n",
        "    inputs = {key: value.to(device) for key, value in inputs.items()}\n",
        "\n",
        "    outputs = model.generate(\n",
        "        input_ids=inputs[\"input_ids\"],\n",
        "        attention_mask=inputs[\"attention_mask\"],\n",
        "        max_length=128,\n",
        "        num_beams=4,                     # Daha iyi cevap için beam search\n",
        "        no_repeat_ngram_size=3,         # Aynı 3 kelimeyi tekrar etmesin\n",
        "        repetition_penalty=1.5,         # Tekrarı cezalandır\n",
        "        length_penalty=1.0,             # Gereksiz uzunlukları engelle\n",
        "        early_stopping=True             # Yeterince bilgi verdiyse dur\n",
        "    )\n",
        "\n",
        "    return tokenizer.decode(outputs[0], skip_special_tokens=True)\n",
        "\n",
        "\n",
        "question = \"How to increase my height? I am 23 years old.\"\n",
        "context = \"Hi doctor, I am 23 years old and wondering if it's still possible to increase my height naturally or through medication.\"\n",
        "print(generate_answer(question, context))"
      ],
      "metadata": {
        "id": "p1seZXiq4DvE"
      },
      "execution_count": null,
      "outputs": []
    },
    {
      "cell_type": "code",
      "source": [
        "!zip -r flan_t5_qa_model.zip flan_t5_qa_model/\n"
      ],
      "metadata": {
        "id": "XZtn65T48Qao"
      },
      "execution_count": null,
      "outputs": []
    }
  ],
  "metadata": {
    "colab": {
      "provenance": [],
      "gpuType": "T4"
    },
    "kernelspec": {
      "display_name": "Python 3",
      "name": "python3"
    },
    "language_info": {
      "name": "python"
    },
    "widgets": {
      "application/vnd.jupyter.widget-state+json": {
        "e76ad0914e3d47e0b15ab4ea5dee3621": {
          "model_module": "@jupyter-widgets/controls",
          "model_name": "HBoxModel",
          "model_module_version": "1.5.0",
          "state": {
            "_dom_classes": [],
            "_model_module": "@jupyter-widgets/controls",
            "_model_module_version": "1.5.0",
            "_model_name": "HBoxModel",
            "_view_count": null,
            "_view_module": "@jupyter-widgets/controls",
            "_view_module_version": "1.5.0",
            "_view_name": "HBoxView",
            "box_style": "",
            "children": [
              "IPY_MODEL_7c624e3e506c4287ba842e476f23be52",
              "IPY_MODEL_293db28f071e400f935d57ecaef758ed",
              "IPY_MODEL_c6a7d169857642d79b04e830a3a8841e"
            ],
            "layout": "IPY_MODEL_8b37e568e7b54fbbbecb69777f8bb5c8"
          }
        },
        "7c624e3e506c4287ba842e476f23be52": {
          "model_module": "@jupyter-widgets/controls",
          "model_name": "HTMLModel",
          "model_module_version": "1.5.0",
          "state": {
            "_dom_classes": [],
            "_model_module": "@jupyter-widgets/controls",
            "_model_module_version": "1.5.0",
            "_model_name": "HTMLModel",
            "_view_count": null,
            "_view_module": "@jupyter-widgets/controls",
            "_view_module_version": "1.5.0",
            "_view_name": "HTMLView",
            "description": "",
            "description_tooltip": null,
            "layout": "IPY_MODEL_a5d4d20c6b64436baea17b8862f371f5",
            "placeholder": "​",
            "style": "IPY_MODEL_140cf13e5ba54ccab0d90371ff61370b",
            "value": "Map: 100%"
          }
        },
        "293db28f071e400f935d57ecaef758ed": {
          "model_module": "@jupyter-widgets/controls",
          "model_name": "FloatProgressModel",
          "model_module_version": "1.5.0",
          "state": {
            "_dom_classes": [],
            "_model_module": "@jupyter-widgets/controls",
            "_model_module_version": "1.5.0",
            "_model_name": "FloatProgressModel",
            "_view_count": null,
            "_view_module": "@jupyter-widgets/controls",
            "_view_module_version": "1.5.0",
            "_view_name": "ProgressView",
            "bar_style": "success",
            "description": "",
            "description_tooltip": null,
            "layout": "IPY_MODEL_5841f28dfb624e85a4c03c27d08601e8",
            "max": 34000,
            "min": 0,
            "orientation": "horizontal",
            "style": "IPY_MODEL_1896514666824e9c9acd25091468bcd9",
            "value": 34000
          }
        },
        "c6a7d169857642d79b04e830a3a8841e": {
          "model_module": "@jupyter-widgets/controls",
          "model_name": "HTMLModel",
          "model_module_version": "1.5.0",
          "state": {
            "_dom_classes": [],
            "_model_module": "@jupyter-widgets/controls",
            "_model_module_version": "1.5.0",
            "_model_name": "HTMLModel",
            "_view_count": null,
            "_view_module": "@jupyter-widgets/controls",
            "_view_module_version": "1.5.0",
            "_view_name": "HTMLView",
            "description": "",
            "description_tooltip": null,
            "layout": "IPY_MODEL_0dae60ad98684e859384651d15af4213",
            "placeholder": "​",
            "style": "IPY_MODEL_1a18c7ca86e24782950a1533c4b4d989",
            "value": " 34000/34000 [00:54&lt;00:00, 750.30 examples/s]"
          }
        },
        "8b37e568e7b54fbbbecb69777f8bb5c8": {
          "model_module": "@jupyter-widgets/base",
          "model_name": "LayoutModel",
          "model_module_version": "1.2.0",
          "state": {
            "_model_module": "@jupyter-widgets/base",
            "_model_module_version": "1.2.0",
            "_model_name": "LayoutModel",
            "_view_count": null,
            "_view_module": "@jupyter-widgets/base",
            "_view_module_version": "1.2.0",
            "_view_name": "LayoutView",
            "align_content": null,
            "align_items": null,
            "align_self": null,
            "border": null,
            "bottom": null,
            "display": null,
            "flex": null,
            "flex_flow": null,
            "grid_area": null,
            "grid_auto_columns": null,
            "grid_auto_flow": null,
            "grid_auto_rows": null,
            "grid_column": null,
            "grid_gap": null,
            "grid_row": null,
            "grid_template_areas": null,
            "grid_template_columns": null,
            "grid_template_rows": null,
            "height": null,
            "justify_content": null,
            "justify_items": null,
            "left": null,
            "margin": null,
            "max_height": null,
            "max_width": null,
            "min_height": null,
            "min_width": null,
            "object_fit": null,
            "object_position": null,
            "order": null,
            "overflow": null,
            "overflow_x": null,
            "overflow_y": null,
            "padding": null,
            "right": null,
            "top": null,
            "visibility": null,
            "width": null
          }
        },
        "a5d4d20c6b64436baea17b8862f371f5": {
          "model_module": "@jupyter-widgets/base",
          "model_name": "LayoutModel",
          "model_module_version": "1.2.0",
          "state": {
            "_model_module": "@jupyter-widgets/base",
            "_model_module_version": "1.2.0",
            "_model_name": "LayoutModel",
            "_view_count": null,
            "_view_module": "@jupyter-widgets/base",
            "_view_module_version": "1.2.0",
            "_view_name": "LayoutView",
            "align_content": null,
            "align_items": null,
            "align_self": null,
            "border": null,
            "bottom": null,
            "display": null,
            "flex": null,
            "flex_flow": null,
            "grid_area": null,
            "grid_auto_columns": null,
            "grid_auto_flow": null,
            "grid_auto_rows": null,
            "grid_column": null,
            "grid_gap": null,
            "grid_row": null,
            "grid_template_areas": null,
            "grid_template_columns": null,
            "grid_template_rows": null,
            "height": null,
            "justify_content": null,
            "justify_items": null,
            "left": null,
            "margin": null,
            "max_height": null,
            "max_width": null,
            "min_height": null,
            "min_width": null,
            "object_fit": null,
            "object_position": null,
            "order": null,
            "overflow": null,
            "overflow_x": null,
            "overflow_y": null,
            "padding": null,
            "right": null,
            "top": null,
            "visibility": null,
            "width": null
          }
        },
        "140cf13e5ba54ccab0d90371ff61370b": {
          "model_module": "@jupyter-widgets/controls",
          "model_name": "DescriptionStyleModel",
          "model_module_version": "1.5.0",
          "state": {
            "_model_module": "@jupyter-widgets/controls",
            "_model_module_version": "1.5.0",
            "_model_name": "DescriptionStyleModel",
            "_view_count": null,
            "_view_module": "@jupyter-widgets/base",
            "_view_module_version": "1.2.0",
            "_view_name": "StyleView",
            "description_width": ""
          }
        },
        "5841f28dfb624e85a4c03c27d08601e8": {
          "model_module": "@jupyter-widgets/base",
          "model_name": "LayoutModel",
          "model_module_version": "1.2.0",
          "state": {
            "_model_module": "@jupyter-widgets/base",
            "_model_module_version": "1.2.0",
            "_model_name": "LayoutModel",
            "_view_count": null,
            "_view_module": "@jupyter-widgets/base",
            "_view_module_version": "1.2.0",
            "_view_name": "LayoutView",
            "align_content": null,
            "align_items": null,
            "align_self": null,
            "border": null,
            "bottom": null,
            "display": null,
            "flex": null,
            "flex_flow": null,
            "grid_area": null,
            "grid_auto_columns": null,
            "grid_auto_flow": null,
            "grid_auto_rows": null,
            "grid_column": null,
            "grid_gap": null,
            "grid_row": null,
            "grid_template_areas": null,
            "grid_template_columns": null,
            "grid_template_rows": null,
            "height": null,
            "justify_content": null,
            "justify_items": null,
            "left": null,
            "margin": null,
            "max_height": null,
            "max_width": null,
            "min_height": null,
            "min_width": null,
            "object_fit": null,
            "object_position": null,
            "order": null,
            "overflow": null,
            "overflow_x": null,
            "overflow_y": null,
            "padding": null,
            "right": null,
            "top": null,
            "visibility": null,
            "width": null
          }
        },
        "1896514666824e9c9acd25091468bcd9": {
          "model_module": "@jupyter-widgets/controls",
          "model_name": "ProgressStyleModel",
          "model_module_version": "1.5.0",
          "state": {
            "_model_module": "@jupyter-widgets/controls",
            "_model_module_version": "1.5.0",
            "_model_name": "ProgressStyleModel",
            "_view_count": null,
            "_view_module": "@jupyter-widgets/base",
            "_view_module_version": "1.2.0",
            "_view_name": "StyleView",
            "bar_color": null,
            "description_width": ""
          }
        },
        "0dae60ad98684e859384651d15af4213": {
          "model_module": "@jupyter-widgets/base",
          "model_name": "LayoutModel",
          "model_module_version": "1.2.0",
          "state": {
            "_model_module": "@jupyter-widgets/base",
            "_model_module_version": "1.2.0",
            "_model_name": "LayoutModel",
            "_view_count": null,
            "_view_module": "@jupyter-widgets/base",
            "_view_module_version": "1.2.0",
            "_view_name": "LayoutView",
            "align_content": null,
            "align_items": null,
            "align_self": null,
            "border": null,
            "bottom": null,
            "display": null,
            "flex": null,
            "flex_flow": null,
            "grid_area": null,
            "grid_auto_columns": null,
            "grid_auto_flow": null,
            "grid_auto_rows": null,
            "grid_column": null,
            "grid_gap": null,
            "grid_row": null,
            "grid_template_areas": null,
            "grid_template_columns": null,
            "grid_template_rows": null,
            "height": null,
            "justify_content": null,
            "justify_items": null,
            "left": null,
            "margin": null,
            "max_height": null,
            "max_width": null,
            "min_height": null,
            "min_width": null,
            "object_fit": null,
            "object_position": null,
            "order": null,
            "overflow": null,
            "overflow_x": null,
            "overflow_y": null,
            "padding": null,
            "right": null,
            "top": null,
            "visibility": null,
            "width": null
          }
        },
        "1a18c7ca86e24782950a1533c4b4d989": {
          "model_module": "@jupyter-widgets/controls",
          "model_name": "DescriptionStyleModel",
          "model_module_version": "1.5.0",
          "state": {
            "_model_module": "@jupyter-widgets/controls",
            "_model_module_version": "1.5.0",
            "_model_name": "DescriptionStyleModel",
            "_view_count": null,
            "_view_module": "@jupyter-widgets/base",
            "_view_module_version": "1.2.0",
            "_view_name": "StyleView",
            "description_width": ""
          }
        },
        "04ad1f5ecbd94f7face55dfeaae701e0": {
          "model_module": "@jupyter-widgets/controls",
          "model_name": "HBoxModel",
          "model_module_version": "1.5.0",
          "state": {
            "_dom_classes": [],
            "_model_module": "@jupyter-widgets/controls",
            "_model_module_version": "1.5.0",
            "_model_name": "HBoxModel",
            "_view_count": null,
            "_view_module": "@jupyter-widgets/controls",
            "_view_module_version": "1.5.0",
            "_view_name": "HBoxView",
            "box_style": "",
            "children": [
              "IPY_MODEL_f3f51f17f06c4117af99dbfa568ac3d4",
              "IPY_MODEL_7848cb6bdddd493c8d718399bf596c43",
              "IPY_MODEL_fe0b3ef9743440aabad768ded0ae7d8c"
            ],
            "layout": "IPY_MODEL_346548a4e09b49e0a2a006885e801874"
          }
        },
        "f3f51f17f06c4117af99dbfa568ac3d4": {
          "model_module": "@jupyter-widgets/controls",
          "model_name": "HTMLModel",
          "model_module_version": "1.5.0",
          "state": {
            "_dom_classes": [],
            "_model_module": "@jupyter-widgets/controls",
            "_model_module_version": "1.5.0",
            "_model_name": "HTMLModel",
            "_view_count": null,
            "_view_module": "@jupyter-widgets/controls",
            "_view_module_version": "1.5.0",
            "_view_name": "HTMLView",
            "description": "",
            "description_tooltip": null,
            "layout": "IPY_MODEL_1d33f6dd17a94861828d7639365b6551",
            "placeholder": "​",
            "style": "IPY_MODEL_6efcdfcc4e9747769e6fe34292caf939",
            "value": "Map: 100%"
          }
        },
        "7848cb6bdddd493c8d718399bf596c43": {
          "model_module": "@jupyter-widgets/controls",
          "model_name": "FloatProgressModel",
          "model_module_version": "1.5.0",
          "state": {
            "_dom_classes": [],
            "_model_module": "@jupyter-widgets/controls",
            "_model_module_version": "1.5.0",
            "_model_name": "FloatProgressModel",
            "_view_count": null,
            "_view_module": "@jupyter-widgets/controls",
            "_view_module_version": "1.5.0",
            "_view_name": "ProgressView",
            "bar_style": "success",
            "description": "",
            "description_tooltip": null,
            "layout": "IPY_MODEL_952996ab80c0468a828d53fc944bed55",
            "max": 6000,
            "min": 0,
            "orientation": "horizontal",
            "style": "IPY_MODEL_8279525c947445efbf9da2475f90f377",
            "value": 6000
          }
        },
        "fe0b3ef9743440aabad768ded0ae7d8c": {
          "model_module": "@jupyter-widgets/controls",
          "model_name": "HTMLModel",
          "model_module_version": "1.5.0",
          "state": {
            "_dom_classes": [],
            "_model_module": "@jupyter-widgets/controls",
            "_model_module_version": "1.5.0",
            "_model_name": "HTMLModel",
            "_view_count": null,
            "_view_module": "@jupyter-widgets/controls",
            "_view_module_version": "1.5.0",
            "_view_name": "HTMLView",
            "description": "",
            "description_tooltip": null,
            "layout": "IPY_MODEL_6182a1202f9346f6bf70334344203444",
            "placeholder": "​",
            "style": "IPY_MODEL_7c9d6336f9974bd6bc651a86de4ac3e0",
            "value": " 6000/6000 [00:11&lt;00:00, 426.19 examples/s]"
          }
        },
        "346548a4e09b49e0a2a006885e801874": {
          "model_module": "@jupyter-widgets/base",
          "model_name": "LayoutModel",
          "model_module_version": "1.2.0",
          "state": {
            "_model_module": "@jupyter-widgets/base",
            "_model_module_version": "1.2.0",
            "_model_name": "LayoutModel",
            "_view_count": null,
            "_view_module": "@jupyter-widgets/base",
            "_view_module_version": "1.2.0",
            "_view_name": "LayoutView",
            "align_content": null,
            "align_items": null,
            "align_self": null,
            "border": null,
            "bottom": null,
            "display": null,
            "flex": null,
            "flex_flow": null,
            "grid_area": null,
            "grid_auto_columns": null,
            "grid_auto_flow": null,
            "grid_auto_rows": null,
            "grid_column": null,
            "grid_gap": null,
            "grid_row": null,
            "grid_template_areas": null,
            "grid_template_columns": null,
            "grid_template_rows": null,
            "height": null,
            "justify_content": null,
            "justify_items": null,
            "left": null,
            "margin": null,
            "max_height": null,
            "max_width": null,
            "min_height": null,
            "min_width": null,
            "object_fit": null,
            "object_position": null,
            "order": null,
            "overflow": null,
            "overflow_x": null,
            "overflow_y": null,
            "padding": null,
            "right": null,
            "top": null,
            "visibility": null,
            "width": null
          }
        },
        "1d33f6dd17a94861828d7639365b6551": {
          "model_module": "@jupyter-widgets/base",
          "model_name": "LayoutModel",
          "model_module_version": "1.2.0",
          "state": {
            "_model_module": "@jupyter-widgets/base",
            "_model_module_version": "1.2.0",
            "_model_name": "LayoutModel",
            "_view_count": null,
            "_view_module": "@jupyter-widgets/base",
            "_view_module_version": "1.2.0",
            "_view_name": "LayoutView",
            "align_content": null,
            "align_items": null,
            "align_self": null,
            "border": null,
            "bottom": null,
            "display": null,
            "flex": null,
            "flex_flow": null,
            "grid_area": null,
            "grid_auto_columns": null,
            "grid_auto_flow": null,
            "grid_auto_rows": null,
            "grid_column": null,
            "grid_gap": null,
            "grid_row": null,
            "grid_template_areas": null,
            "grid_template_columns": null,
            "grid_template_rows": null,
            "height": null,
            "justify_content": null,
            "justify_items": null,
            "left": null,
            "margin": null,
            "max_height": null,
            "max_width": null,
            "min_height": null,
            "min_width": null,
            "object_fit": null,
            "object_position": null,
            "order": null,
            "overflow": null,
            "overflow_x": null,
            "overflow_y": null,
            "padding": null,
            "right": null,
            "top": null,
            "visibility": null,
            "width": null
          }
        },
        "6efcdfcc4e9747769e6fe34292caf939": {
          "model_module": "@jupyter-widgets/controls",
          "model_name": "DescriptionStyleModel",
          "model_module_version": "1.5.0",
          "state": {
            "_model_module": "@jupyter-widgets/controls",
            "_model_module_version": "1.5.0",
            "_model_name": "DescriptionStyleModel",
            "_view_count": null,
            "_view_module": "@jupyter-widgets/base",
            "_view_module_version": "1.2.0",
            "_view_name": "StyleView",
            "description_width": ""
          }
        },
        "952996ab80c0468a828d53fc944bed55": {
          "model_module": "@jupyter-widgets/base",
          "model_name": "LayoutModel",
          "model_module_version": "1.2.0",
          "state": {
            "_model_module": "@jupyter-widgets/base",
            "_model_module_version": "1.2.0",
            "_model_name": "LayoutModel",
            "_view_count": null,
            "_view_module": "@jupyter-widgets/base",
            "_view_module_version": "1.2.0",
            "_view_name": "LayoutView",
            "align_content": null,
            "align_items": null,
            "align_self": null,
            "border": null,
            "bottom": null,
            "display": null,
            "flex": null,
            "flex_flow": null,
            "grid_area": null,
            "grid_auto_columns": null,
            "grid_auto_flow": null,
            "grid_auto_rows": null,
            "grid_column": null,
            "grid_gap": null,
            "grid_row": null,
            "grid_template_areas": null,
            "grid_template_columns": null,
            "grid_template_rows": null,
            "height": null,
            "justify_content": null,
            "justify_items": null,
            "left": null,
            "margin": null,
            "max_height": null,
            "max_width": null,
            "min_height": null,
            "min_width": null,
            "object_fit": null,
            "object_position": null,
            "order": null,
            "overflow": null,
            "overflow_x": null,
            "overflow_y": null,
            "padding": null,
            "right": null,
            "top": null,
            "visibility": null,
            "width": null
          }
        },
        "8279525c947445efbf9da2475f90f377": {
          "model_module": "@jupyter-widgets/controls",
          "model_name": "ProgressStyleModel",
          "model_module_version": "1.5.0",
          "state": {
            "_model_module": "@jupyter-widgets/controls",
            "_model_module_version": "1.5.0",
            "_model_name": "ProgressStyleModel",
            "_view_count": null,
            "_view_module": "@jupyter-widgets/base",
            "_view_module_version": "1.2.0",
            "_view_name": "StyleView",
            "bar_color": null,
            "description_width": ""
          }
        },
        "6182a1202f9346f6bf70334344203444": {
          "model_module": "@jupyter-widgets/base",
          "model_name": "LayoutModel",
          "model_module_version": "1.2.0",
          "state": {
            "_model_module": "@jupyter-widgets/base",
            "_model_module_version": "1.2.0",
            "_model_name": "LayoutModel",
            "_view_count": null,
            "_view_module": "@jupyter-widgets/base",
            "_view_module_version": "1.2.0",
            "_view_name": "LayoutView",
            "align_content": null,
            "align_items": null,
            "align_self": null,
            "border": null,
            "bottom": null,
            "display": null,
            "flex": null,
            "flex_flow": null,
            "grid_area": null,
            "grid_auto_columns": null,
            "grid_auto_flow": null,
            "grid_auto_rows": null,
            "grid_column": null,
            "grid_gap": null,
            "grid_row": null,
            "grid_template_areas": null,
            "grid_template_columns": null,
            "grid_template_rows": null,
            "height": null,
            "justify_content": null,
            "justify_items": null,
            "left": null,
            "margin": null,
            "max_height": null,
            "max_width": null,
            "min_height": null,
            "min_width": null,
            "object_fit": null,
            "object_position": null,
            "order": null,
            "overflow": null,
            "overflow_x": null,
            "overflow_y": null,
            "padding": null,
            "right": null,
            "top": null,
            "visibility": null,
            "width": null
          }
        },
        "7c9d6336f9974bd6bc651a86de4ac3e0": {
          "model_module": "@jupyter-widgets/controls",
          "model_name": "DescriptionStyleModel",
          "model_module_version": "1.5.0",
          "state": {
            "_model_module": "@jupyter-widgets/controls",
            "_model_module_version": "1.5.0",
            "_model_name": "DescriptionStyleModel",
            "_view_count": null,
            "_view_module": "@jupyter-widgets/base",
            "_view_module_version": "1.2.0",
            "_view_name": "StyleView",
            "description_width": ""
          }
        },
        "c9a3a760e1ba4a478e80698fe20a7d3d": {
          "model_module": "@jupyter-widgets/controls",
          "model_name": "HBoxModel",
          "model_module_version": "1.5.0",
          "state": {
            "_dom_classes": [],
            "_model_module": "@jupyter-widgets/controls",
            "_model_module_version": "1.5.0",
            "_model_name": "HBoxModel",
            "_view_count": null,
            "_view_module": "@jupyter-widgets/controls",
            "_view_module_version": "1.5.0",
            "_view_name": "HBoxView",
            "box_style": "",
            "children": [
              "IPY_MODEL_5e508e145ee04158aa462b8918b68be0",
              "IPY_MODEL_ca305c335d6843d79b1fa8cbb99e9025",
              "IPY_MODEL_f7396465461e4dae8944de253f8c29b9"
            ],
            "layout": "IPY_MODEL_e69aa6be791348c8b8b3a68dcfa57009"
          }
        },
        "5e508e145ee04158aa462b8918b68be0": {
          "model_module": "@jupyter-widgets/controls",
          "model_name": "HTMLModel",
          "model_module_version": "1.5.0",
          "state": {
            "_dom_classes": [],
            "_model_module": "@jupyter-widgets/controls",
            "_model_module_version": "1.5.0",
            "_model_name": "HTMLModel",
            "_view_count": null,
            "_view_module": "@jupyter-widgets/controls",
            "_view_module_version": "1.5.0",
            "_view_name": "HTMLView",
            "description": "",
            "description_tooltip": null,
            "layout": "IPY_MODEL_e7d448cf13764c8c924bd608bcde20a3",
            "placeholder": "​",
            "style": "IPY_MODEL_bcc4040ca5e64ca9a223fe5a26d1f246",
            "value": "config.json: 100%"
          }
        },
        "ca305c335d6843d79b1fa8cbb99e9025": {
          "model_module": "@jupyter-widgets/controls",
          "model_name": "FloatProgressModel",
          "model_module_version": "1.5.0",
          "state": {
            "_dom_classes": [],
            "_model_module": "@jupyter-widgets/controls",
            "_model_module_version": "1.5.0",
            "_model_name": "FloatProgressModel",
            "_view_count": null,
            "_view_module": "@jupyter-widgets/controls",
            "_view_module_version": "1.5.0",
            "_view_name": "ProgressView",
            "bar_style": "success",
            "description": "",
            "description_tooltip": null,
            "layout": "IPY_MODEL_4c1ddfff48e04ad6998b57286a00f203",
            "max": 629,
            "min": 0,
            "orientation": "horizontal",
            "style": "IPY_MODEL_4bc1bdbbf8a44a0499467a0897f44c11",
            "value": 629
          }
        },
        "f7396465461e4dae8944de253f8c29b9": {
          "model_module": "@jupyter-widgets/controls",
          "model_name": "HTMLModel",
          "model_module_version": "1.5.0",
          "state": {
            "_dom_classes": [],
            "_model_module": "@jupyter-widgets/controls",
            "_model_module_version": "1.5.0",
            "_model_name": "HTMLModel",
            "_view_count": null,
            "_view_module": "@jupyter-widgets/controls",
            "_view_module_version": "1.5.0",
            "_view_name": "HTMLView",
            "description": "",
            "description_tooltip": null,
            "layout": "IPY_MODEL_de8780ebdbaf46b88d84e42c5789062c",
            "placeholder": "​",
            "style": "IPY_MODEL_44e819b124c84424bf36cec8f0c76288",
            "value": " 629/629 [00:00&lt;00:00, 25.9kB/s]"
          }
        },
        "e69aa6be791348c8b8b3a68dcfa57009": {
          "model_module": "@jupyter-widgets/base",
          "model_name": "LayoutModel",
          "model_module_version": "1.2.0",
          "state": {
            "_model_module": "@jupyter-widgets/base",
            "_model_module_version": "1.2.0",
            "_model_name": "LayoutModel",
            "_view_count": null,
            "_view_module": "@jupyter-widgets/base",
            "_view_module_version": "1.2.0",
            "_view_name": "LayoutView",
            "align_content": null,
            "align_items": null,
            "align_self": null,
            "border": null,
            "bottom": null,
            "display": null,
            "flex": null,
            "flex_flow": null,
            "grid_area": null,
            "grid_auto_columns": null,
            "grid_auto_flow": null,
            "grid_auto_rows": null,
            "grid_column": null,
            "grid_gap": null,
            "grid_row": null,
            "grid_template_areas": null,
            "grid_template_columns": null,
            "grid_template_rows": null,
            "height": null,
            "justify_content": null,
            "justify_items": null,
            "left": null,
            "margin": null,
            "max_height": null,
            "max_width": null,
            "min_height": null,
            "min_width": null,
            "object_fit": null,
            "object_position": null,
            "order": null,
            "overflow": null,
            "overflow_x": null,
            "overflow_y": null,
            "padding": null,
            "right": null,
            "top": null,
            "visibility": null,
            "width": null
          }
        },
        "e7d448cf13764c8c924bd608bcde20a3": {
          "model_module": "@jupyter-widgets/base",
          "model_name": "LayoutModel",
          "model_module_version": "1.2.0",
          "state": {
            "_model_module": "@jupyter-widgets/base",
            "_model_module_version": "1.2.0",
            "_model_name": "LayoutModel",
            "_view_count": null,
            "_view_module": "@jupyter-widgets/base",
            "_view_module_version": "1.2.0",
            "_view_name": "LayoutView",
            "align_content": null,
            "align_items": null,
            "align_self": null,
            "border": null,
            "bottom": null,
            "display": null,
            "flex": null,
            "flex_flow": null,
            "grid_area": null,
            "grid_auto_columns": null,
            "grid_auto_flow": null,
            "grid_auto_rows": null,
            "grid_column": null,
            "grid_gap": null,
            "grid_row": null,
            "grid_template_areas": null,
            "grid_template_columns": null,
            "grid_template_rows": null,
            "height": null,
            "justify_content": null,
            "justify_items": null,
            "left": null,
            "margin": null,
            "max_height": null,
            "max_width": null,
            "min_height": null,
            "min_width": null,
            "object_fit": null,
            "object_position": null,
            "order": null,
            "overflow": null,
            "overflow_x": null,
            "overflow_y": null,
            "padding": null,
            "right": null,
            "top": null,
            "visibility": null,
            "width": null
          }
        },
        "bcc4040ca5e64ca9a223fe5a26d1f246": {
          "model_module": "@jupyter-widgets/controls",
          "model_name": "DescriptionStyleModel",
          "model_module_version": "1.5.0",
          "state": {
            "_model_module": "@jupyter-widgets/controls",
            "_model_module_version": "1.5.0",
            "_model_name": "DescriptionStyleModel",
            "_view_count": null,
            "_view_module": "@jupyter-widgets/base",
            "_view_module_version": "1.2.0",
            "_view_name": "StyleView",
            "description_width": ""
          }
        },
        "4c1ddfff48e04ad6998b57286a00f203": {
          "model_module": "@jupyter-widgets/base",
          "model_name": "LayoutModel",
          "model_module_version": "1.2.0",
          "state": {
            "_model_module": "@jupyter-widgets/base",
            "_model_module_version": "1.2.0",
            "_model_name": "LayoutModel",
            "_view_count": null,
            "_view_module": "@jupyter-widgets/base",
            "_view_module_version": "1.2.0",
            "_view_name": "LayoutView",
            "align_content": null,
            "align_items": null,
            "align_self": null,
            "border": null,
            "bottom": null,
            "display": null,
            "flex": null,
            "flex_flow": null,
            "grid_area": null,
            "grid_auto_columns": null,
            "grid_auto_flow": null,
            "grid_auto_rows": null,
            "grid_column": null,
            "grid_gap": null,
            "grid_row": null,
            "grid_template_areas": null,
            "grid_template_columns": null,
            "grid_template_rows": null,
            "height": null,
            "justify_content": null,
            "justify_items": null,
            "left": null,
            "margin": null,
            "max_height": null,
            "max_width": null,
            "min_height": null,
            "min_width": null,
            "object_fit": null,
            "object_position": null,
            "order": null,
            "overflow": null,
            "overflow_x": null,
            "overflow_y": null,
            "padding": null,
            "right": null,
            "top": null,
            "visibility": null,
            "width": null
          }
        },
        "4bc1bdbbf8a44a0499467a0897f44c11": {
          "model_module": "@jupyter-widgets/controls",
          "model_name": "ProgressStyleModel",
          "model_module_version": "1.5.0",
          "state": {
            "_model_module": "@jupyter-widgets/controls",
            "_model_module_version": "1.5.0",
            "_model_name": "ProgressStyleModel",
            "_view_count": null,
            "_view_module": "@jupyter-widgets/base",
            "_view_module_version": "1.2.0",
            "_view_name": "StyleView",
            "bar_color": null,
            "description_width": ""
          }
        },
        "de8780ebdbaf46b88d84e42c5789062c": {
          "model_module": "@jupyter-widgets/base",
          "model_name": "LayoutModel",
          "model_module_version": "1.2.0",
          "state": {
            "_model_module": "@jupyter-widgets/base",
            "_model_module_version": "1.2.0",
            "_model_name": "LayoutModel",
            "_view_count": null,
            "_view_module": "@jupyter-widgets/base",
            "_view_module_version": "1.2.0",
            "_view_name": "LayoutView",
            "align_content": null,
            "align_items": null,
            "align_self": null,
            "border": null,
            "bottom": null,
            "display": null,
            "flex": null,
            "flex_flow": null,
            "grid_area": null,
            "grid_auto_columns": null,
            "grid_auto_flow": null,
            "grid_auto_rows": null,
            "grid_column": null,
            "grid_gap": null,
            "grid_row": null,
            "grid_template_areas": null,
            "grid_template_columns": null,
            "grid_template_rows": null,
            "height": null,
            "justify_content": null,
            "justify_items": null,
            "left": null,
            "margin": null,
            "max_height": null,
            "max_width": null,
            "min_height": null,
            "min_width": null,
            "object_fit": null,
            "object_position": null,
            "order": null,
            "overflow": null,
            "overflow_x": null,
            "overflow_y": null,
            "padding": null,
            "right": null,
            "top": null,
            "visibility": null,
            "width": null
          }
        },
        "44e819b124c84424bf36cec8f0c76288": {
          "model_module": "@jupyter-widgets/controls",
          "model_name": "DescriptionStyleModel",
          "model_module_version": "1.5.0",
          "state": {
            "_model_module": "@jupyter-widgets/controls",
            "_model_module_version": "1.5.0",
            "_model_name": "DescriptionStyleModel",
            "_view_count": null,
            "_view_module": "@jupyter-widgets/base",
            "_view_module_version": "1.2.0",
            "_view_name": "StyleView",
            "description_width": ""
          }
        },
        "be14877fdf3d43a18d59eef890e6d327": {
          "model_module": "@jupyter-widgets/controls",
          "model_name": "HBoxModel",
          "model_module_version": "1.5.0",
          "state": {
            "_dom_classes": [],
            "_model_module": "@jupyter-widgets/controls",
            "_model_module_version": "1.5.0",
            "_model_name": "HBoxModel",
            "_view_count": null,
            "_view_module": "@jupyter-widgets/controls",
            "_view_module_version": "1.5.0",
            "_view_name": "HBoxView",
            "box_style": "",
            "children": [
              "IPY_MODEL_5b1d5535d36e41cbbafe2ed4205d1fa4",
              "IPY_MODEL_054004351a784d6492d30a46628e9913",
              "IPY_MODEL_e93db688b8ee44068238e254855c2e92"
            ],
            "layout": "IPY_MODEL_b6b8b2cb8e7b4f89aa92270ae6ff5dfb"
          }
        },
        "5b1d5535d36e41cbbafe2ed4205d1fa4": {
          "model_module": "@jupyter-widgets/controls",
          "model_name": "HTMLModel",
          "model_module_version": "1.5.0",
          "state": {
            "_dom_classes": [],
            "_model_module": "@jupyter-widgets/controls",
            "_model_module_version": "1.5.0",
            "_model_name": "HTMLModel",
            "_view_count": null,
            "_view_module": "@jupyter-widgets/controls",
            "_view_module_version": "1.5.0",
            "_view_name": "HTMLView",
            "description": "",
            "description_tooltip": null,
            "layout": "IPY_MODEL_ef2ee750fa9542d5ab5d0c2fcdad04f8",
            "placeholder": "​",
            "style": "IPY_MODEL_97528be229144e0fabe3b5aeb487c2d8",
            "value": "model.safetensors: 100%"
          }
        },
        "054004351a784d6492d30a46628e9913": {
          "model_module": "@jupyter-widgets/controls",
          "model_name": "FloatProgressModel",
          "model_module_version": "1.5.0",
          "state": {
            "_dom_classes": [],
            "_model_module": "@jupyter-widgets/controls",
            "_model_module_version": "1.5.0",
            "_model_name": "FloatProgressModel",
            "_view_count": null,
            "_view_module": "@jupyter-widgets/controls",
            "_view_module_version": "1.5.0",
            "_view_name": "ProgressView",
            "bar_style": "success",
            "description": "",
            "description_tooltip": null,
            "layout": "IPY_MODEL_198e188823884e6fb2fb888d16c4c97f",
            "max": 267832558,
            "min": 0,
            "orientation": "horizontal",
            "style": "IPY_MODEL_0d2e677954a646bc9f3c04697a601a0b",
            "value": 267832558
          }
        },
        "e93db688b8ee44068238e254855c2e92": {
          "model_module": "@jupyter-widgets/controls",
          "model_name": "HTMLModel",
          "model_module_version": "1.5.0",
          "state": {
            "_dom_classes": [],
            "_model_module": "@jupyter-widgets/controls",
            "_model_module_version": "1.5.0",
            "_model_name": "HTMLModel",
            "_view_count": null,
            "_view_module": "@jupyter-widgets/controls",
            "_view_module_version": "1.5.0",
            "_view_name": "HTMLView",
            "description": "",
            "description_tooltip": null,
            "layout": "IPY_MODEL_b53a48dee7124ea4bdea084a0700ddd5",
            "placeholder": "​",
            "style": "IPY_MODEL_dbc70fba4fa84a71844ae8257b37c1fa",
            "value": " 268M/268M [00:04&lt;00:00, 78.9MB/s]"
          }
        },
        "b6b8b2cb8e7b4f89aa92270ae6ff5dfb": {
          "model_module": "@jupyter-widgets/base",
          "model_name": "LayoutModel",
          "model_module_version": "1.2.0",
          "state": {
            "_model_module": "@jupyter-widgets/base",
            "_model_module_version": "1.2.0",
            "_model_name": "LayoutModel",
            "_view_count": null,
            "_view_module": "@jupyter-widgets/base",
            "_view_module_version": "1.2.0",
            "_view_name": "LayoutView",
            "align_content": null,
            "align_items": null,
            "align_self": null,
            "border": null,
            "bottom": null,
            "display": null,
            "flex": null,
            "flex_flow": null,
            "grid_area": null,
            "grid_auto_columns": null,
            "grid_auto_flow": null,
            "grid_auto_rows": null,
            "grid_column": null,
            "grid_gap": null,
            "grid_row": null,
            "grid_template_areas": null,
            "grid_template_columns": null,
            "grid_template_rows": null,
            "height": null,
            "justify_content": null,
            "justify_items": null,
            "left": null,
            "margin": null,
            "max_height": null,
            "max_width": null,
            "min_height": null,
            "min_width": null,
            "object_fit": null,
            "object_position": null,
            "order": null,
            "overflow": null,
            "overflow_x": null,
            "overflow_y": null,
            "padding": null,
            "right": null,
            "top": null,
            "visibility": null,
            "width": null
          }
        },
        "ef2ee750fa9542d5ab5d0c2fcdad04f8": {
          "model_module": "@jupyter-widgets/base",
          "model_name": "LayoutModel",
          "model_module_version": "1.2.0",
          "state": {
            "_model_module": "@jupyter-widgets/base",
            "_model_module_version": "1.2.0",
            "_model_name": "LayoutModel",
            "_view_count": null,
            "_view_module": "@jupyter-widgets/base",
            "_view_module_version": "1.2.0",
            "_view_name": "LayoutView",
            "align_content": null,
            "align_items": null,
            "align_self": null,
            "border": null,
            "bottom": null,
            "display": null,
            "flex": null,
            "flex_flow": null,
            "grid_area": null,
            "grid_auto_columns": null,
            "grid_auto_flow": null,
            "grid_auto_rows": null,
            "grid_column": null,
            "grid_gap": null,
            "grid_row": null,
            "grid_template_areas": null,
            "grid_template_columns": null,
            "grid_template_rows": null,
            "height": null,
            "justify_content": null,
            "justify_items": null,
            "left": null,
            "margin": null,
            "max_height": null,
            "max_width": null,
            "min_height": null,
            "min_width": null,
            "object_fit": null,
            "object_position": null,
            "order": null,
            "overflow": null,
            "overflow_x": null,
            "overflow_y": null,
            "padding": null,
            "right": null,
            "top": null,
            "visibility": null,
            "width": null
          }
        },
        "97528be229144e0fabe3b5aeb487c2d8": {
          "model_module": "@jupyter-widgets/controls",
          "model_name": "DescriptionStyleModel",
          "model_module_version": "1.5.0",
          "state": {
            "_model_module": "@jupyter-widgets/controls",
            "_model_module_version": "1.5.0",
            "_model_name": "DescriptionStyleModel",
            "_view_count": null,
            "_view_module": "@jupyter-widgets/base",
            "_view_module_version": "1.2.0",
            "_view_name": "StyleView",
            "description_width": ""
          }
        },
        "198e188823884e6fb2fb888d16c4c97f": {
          "model_module": "@jupyter-widgets/base",
          "model_name": "LayoutModel",
          "model_module_version": "1.2.0",
          "state": {
            "_model_module": "@jupyter-widgets/base",
            "_model_module_version": "1.2.0",
            "_model_name": "LayoutModel",
            "_view_count": null,
            "_view_module": "@jupyter-widgets/base",
            "_view_module_version": "1.2.0",
            "_view_name": "LayoutView",
            "align_content": null,
            "align_items": null,
            "align_self": null,
            "border": null,
            "bottom": null,
            "display": null,
            "flex": null,
            "flex_flow": null,
            "grid_area": null,
            "grid_auto_columns": null,
            "grid_auto_flow": null,
            "grid_auto_rows": null,
            "grid_column": null,
            "grid_gap": null,
            "grid_row": null,
            "grid_template_areas": null,
            "grid_template_columns": null,
            "grid_template_rows": null,
            "height": null,
            "justify_content": null,
            "justify_items": null,
            "left": null,
            "margin": null,
            "max_height": null,
            "max_width": null,
            "min_height": null,
            "min_width": null,
            "object_fit": null,
            "object_position": null,
            "order": null,
            "overflow": null,
            "overflow_x": null,
            "overflow_y": null,
            "padding": null,
            "right": null,
            "top": null,
            "visibility": null,
            "width": null
          }
        },
        "0d2e677954a646bc9f3c04697a601a0b": {
          "model_module": "@jupyter-widgets/controls",
          "model_name": "ProgressStyleModel",
          "model_module_version": "1.5.0",
          "state": {
            "_model_module": "@jupyter-widgets/controls",
            "_model_module_version": "1.5.0",
            "_model_name": "ProgressStyleModel",
            "_view_count": null,
            "_view_module": "@jupyter-widgets/base",
            "_view_module_version": "1.2.0",
            "_view_name": "StyleView",
            "bar_color": null,
            "description_width": ""
          }
        },
        "b53a48dee7124ea4bdea084a0700ddd5": {
          "model_module": "@jupyter-widgets/base",
          "model_name": "LayoutModel",
          "model_module_version": "1.2.0",
          "state": {
            "_model_module": "@jupyter-widgets/base",
            "_model_module_version": "1.2.0",
            "_model_name": "LayoutModel",
            "_view_count": null,
            "_view_module": "@jupyter-widgets/base",
            "_view_module_version": "1.2.0",
            "_view_name": "LayoutView",
            "align_content": null,
            "align_items": null,
            "align_self": null,
            "border": null,
            "bottom": null,
            "display": null,
            "flex": null,
            "flex_flow": null,
            "grid_area": null,
            "grid_auto_columns": null,
            "grid_auto_flow": null,
            "grid_auto_rows": null,
            "grid_column": null,
            "grid_gap": null,
            "grid_row": null,
            "grid_template_areas": null,
            "grid_template_columns": null,
            "grid_template_rows": null,
            "height": null,
            "justify_content": null,
            "justify_items": null,
            "left": null,
            "margin": null,
            "max_height": null,
            "max_width": null,
            "min_height": null,
            "min_width": null,
            "object_fit": null,
            "object_position": null,
            "order": null,
            "overflow": null,
            "overflow_x": null,
            "overflow_y": null,
            "padding": null,
            "right": null,
            "top": null,
            "visibility": null,
            "width": null
          }
        },
        "dbc70fba4fa84a71844ae8257b37c1fa": {
          "model_module": "@jupyter-widgets/controls",
          "model_name": "DescriptionStyleModel",
          "model_module_version": "1.5.0",
          "state": {
            "_model_module": "@jupyter-widgets/controls",
            "_model_module_version": "1.5.0",
            "_model_name": "DescriptionStyleModel",
            "_view_count": null,
            "_view_module": "@jupyter-widgets/base",
            "_view_module_version": "1.2.0",
            "_view_name": "StyleView",
            "description_width": ""
          }
        },
        "eb3ea57db689464d8b1a8246567d337a": {
          "model_module": "@jupyter-widgets/controls",
          "model_name": "HBoxModel",
          "model_module_version": "1.5.0",
          "state": {
            "_dom_classes": [],
            "_model_module": "@jupyter-widgets/controls",
            "_model_module_version": "1.5.0",
            "_model_name": "HBoxModel",
            "_view_count": null,
            "_view_module": "@jupyter-widgets/controls",
            "_view_module_version": "1.5.0",
            "_view_name": "HBoxView",
            "box_style": "",
            "children": [
              "IPY_MODEL_04f5c57a11ba4f3497781b53d2b24c9b",
              "IPY_MODEL_77c7a284f2ef4e2d80b73705a49da6d6",
              "IPY_MODEL_95cfb33055b0439195f05928782fa036"
            ],
            "layout": "IPY_MODEL_d9424c59409042c8bf4027f7525ab63f"
          }
        },
        "04f5c57a11ba4f3497781b53d2b24c9b": {
          "model_module": "@jupyter-widgets/controls",
          "model_name": "HTMLModel",
          "model_module_version": "1.5.0",
          "state": {
            "_dom_classes": [],
            "_model_module": "@jupyter-widgets/controls",
            "_model_module_version": "1.5.0",
            "_model_name": "HTMLModel",
            "_view_count": null,
            "_view_module": "@jupyter-widgets/controls",
            "_view_module_version": "1.5.0",
            "_view_name": "HTMLView",
            "description": "",
            "description_tooltip": null,
            "layout": "IPY_MODEL_a80530ef62394c08b880dbd4c9769121",
            "placeholder": "​",
            "style": "IPY_MODEL_b6d3cd89b5424d399d045ff67268b7c2",
            "value": "tokenizer_config.json: 100%"
          }
        },
        "77c7a284f2ef4e2d80b73705a49da6d6": {
          "model_module": "@jupyter-widgets/controls",
          "model_name": "FloatProgressModel",
          "model_module_version": "1.5.0",
          "state": {
            "_dom_classes": [],
            "_model_module": "@jupyter-widgets/controls",
            "_model_module_version": "1.5.0",
            "_model_name": "FloatProgressModel",
            "_view_count": null,
            "_view_module": "@jupyter-widgets/controls",
            "_view_module_version": "1.5.0",
            "_view_name": "ProgressView",
            "bar_style": "success",
            "description": "",
            "description_tooltip": null,
            "layout": "IPY_MODEL_acb757350d6a47e6a2d40b98bec3d481",
            "max": 48,
            "min": 0,
            "orientation": "horizontal",
            "style": "IPY_MODEL_66bbf289dfef49e8b4ab58f017fb4379",
            "value": 48
          }
        },
        "95cfb33055b0439195f05928782fa036": {
          "model_module": "@jupyter-widgets/controls",
          "model_name": "HTMLModel",
          "model_module_version": "1.5.0",
          "state": {
            "_dom_classes": [],
            "_model_module": "@jupyter-widgets/controls",
            "_model_module_version": "1.5.0",
            "_model_name": "HTMLModel",
            "_view_count": null,
            "_view_module": "@jupyter-widgets/controls",
            "_view_module_version": "1.5.0",
            "_view_name": "HTMLView",
            "description": "",
            "description_tooltip": null,
            "layout": "IPY_MODEL_b3977cf6344e4ce285f8df6b278efcec",
            "placeholder": "​",
            "style": "IPY_MODEL_9af197e147824c6ca23fedb02bb7e4cf",
            "value": " 48.0/48.0 [00:00&lt;00:00, 1.33kB/s]"
          }
        },
        "d9424c59409042c8bf4027f7525ab63f": {
          "model_module": "@jupyter-widgets/base",
          "model_name": "LayoutModel",
          "model_module_version": "1.2.0",
          "state": {
            "_model_module": "@jupyter-widgets/base",
            "_model_module_version": "1.2.0",
            "_model_name": "LayoutModel",
            "_view_count": null,
            "_view_module": "@jupyter-widgets/base",
            "_view_module_version": "1.2.0",
            "_view_name": "LayoutView",
            "align_content": null,
            "align_items": null,
            "align_self": null,
            "border": null,
            "bottom": null,
            "display": null,
            "flex": null,
            "flex_flow": null,
            "grid_area": null,
            "grid_auto_columns": null,
            "grid_auto_flow": null,
            "grid_auto_rows": null,
            "grid_column": null,
            "grid_gap": null,
            "grid_row": null,
            "grid_template_areas": null,
            "grid_template_columns": null,
            "grid_template_rows": null,
            "height": null,
            "justify_content": null,
            "justify_items": null,
            "left": null,
            "margin": null,
            "max_height": null,
            "max_width": null,
            "min_height": null,
            "min_width": null,
            "object_fit": null,
            "object_position": null,
            "order": null,
            "overflow": null,
            "overflow_x": null,
            "overflow_y": null,
            "padding": null,
            "right": null,
            "top": null,
            "visibility": null,
            "width": null
          }
        },
        "a80530ef62394c08b880dbd4c9769121": {
          "model_module": "@jupyter-widgets/base",
          "model_name": "LayoutModel",
          "model_module_version": "1.2.0",
          "state": {
            "_model_module": "@jupyter-widgets/base",
            "_model_module_version": "1.2.0",
            "_model_name": "LayoutModel",
            "_view_count": null,
            "_view_module": "@jupyter-widgets/base",
            "_view_module_version": "1.2.0",
            "_view_name": "LayoutView",
            "align_content": null,
            "align_items": null,
            "align_self": null,
            "border": null,
            "bottom": null,
            "display": null,
            "flex": null,
            "flex_flow": null,
            "grid_area": null,
            "grid_auto_columns": null,
            "grid_auto_flow": null,
            "grid_auto_rows": null,
            "grid_column": null,
            "grid_gap": null,
            "grid_row": null,
            "grid_template_areas": null,
            "grid_template_columns": null,
            "grid_template_rows": null,
            "height": null,
            "justify_content": null,
            "justify_items": null,
            "left": null,
            "margin": null,
            "max_height": null,
            "max_width": null,
            "min_height": null,
            "min_width": null,
            "object_fit": null,
            "object_position": null,
            "order": null,
            "overflow": null,
            "overflow_x": null,
            "overflow_y": null,
            "padding": null,
            "right": null,
            "top": null,
            "visibility": null,
            "width": null
          }
        },
        "b6d3cd89b5424d399d045ff67268b7c2": {
          "model_module": "@jupyter-widgets/controls",
          "model_name": "DescriptionStyleModel",
          "model_module_version": "1.5.0",
          "state": {
            "_model_module": "@jupyter-widgets/controls",
            "_model_module_version": "1.5.0",
            "_model_name": "DescriptionStyleModel",
            "_view_count": null,
            "_view_module": "@jupyter-widgets/base",
            "_view_module_version": "1.2.0",
            "_view_name": "StyleView",
            "description_width": ""
          }
        },
        "acb757350d6a47e6a2d40b98bec3d481": {
          "model_module": "@jupyter-widgets/base",
          "model_name": "LayoutModel",
          "model_module_version": "1.2.0",
          "state": {
            "_model_module": "@jupyter-widgets/base",
            "_model_module_version": "1.2.0",
            "_model_name": "LayoutModel",
            "_view_count": null,
            "_view_module": "@jupyter-widgets/base",
            "_view_module_version": "1.2.0",
            "_view_name": "LayoutView",
            "align_content": null,
            "align_items": null,
            "align_self": null,
            "border": null,
            "bottom": null,
            "display": null,
            "flex": null,
            "flex_flow": null,
            "grid_area": null,
            "grid_auto_columns": null,
            "grid_auto_flow": null,
            "grid_auto_rows": null,
            "grid_column": null,
            "grid_gap": null,
            "grid_row": null,
            "grid_template_areas": null,
            "grid_template_columns": null,
            "grid_template_rows": null,
            "height": null,
            "justify_content": null,
            "justify_items": null,
            "left": null,
            "margin": null,
            "max_height": null,
            "max_width": null,
            "min_height": null,
            "min_width": null,
            "object_fit": null,
            "object_position": null,
            "order": null,
            "overflow": null,
            "overflow_x": null,
            "overflow_y": null,
            "padding": null,
            "right": null,
            "top": null,
            "visibility": null,
            "width": null
          }
        },
        "66bbf289dfef49e8b4ab58f017fb4379": {
          "model_module": "@jupyter-widgets/controls",
          "model_name": "ProgressStyleModel",
          "model_module_version": "1.5.0",
          "state": {
            "_model_module": "@jupyter-widgets/controls",
            "_model_module_version": "1.5.0",
            "_model_name": "ProgressStyleModel",
            "_view_count": null,
            "_view_module": "@jupyter-widgets/base",
            "_view_module_version": "1.2.0",
            "_view_name": "StyleView",
            "bar_color": null,
            "description_width": ""
          }
        },
        "b3977cf6344e4ce285f8df6b278efcec": {
          "model_module": "@jupyter-widgets/base",
          "model_name": "LayoutModel",
          "model_module_version": "1.2.0",
          "state": {
            "_model_module": "@jupyter-widgets/base",
            "_model_module_version": "1.2.0",
            "_model_name": "LayoutModel",
            "_view_count": null,
            "_view_module": "@jupyter-widgets/base",
            "_view_module_version": "1.2.0",
            "_view_name": "LayoutView",
            "align_content": null,
            "align_items": null,
            "align_self": null,
            "border": null,
            "bottom": null,
            "display": null,
            "flex": null,
            "flex_flow": null,
            "grid_area": null,
            "grid_auto_columns": null,
            "grid_auto_flow": null,
            "grid_auto_rows": null,
            "grid_column": null,
            "grid_gap": null,
            "grid_row": null,
            "grid_template_areas": null,
            "grid_template_columns": null,
            "grid_template_rows": null,
            "height": null,
            "justify_content": null,
            "justify_items": null,
            "left": null,
            "margin": null,
            "max_height": null,
            "max_width": null,
            "min_height": null,
            "min_width": null,
            "object_fit": null,
            "object_position": null,
            "order": null,
            "overflow": null,
            "overflow_x": null,
            "overflow_y": null,
            "padding": null,
            "right": null,
            "top": null,
            "visibility": null,
            "width": null
          }
        },
        "9af197e147824c6ca23fedb02bb7e4cf": {
          "model_module": "@jupyter-widgets/controls",
          "model_name": "DescriptionStyleModel",
          "model_module_version": "1.5.0",
          "state": {
            "_model_module": "@jupyter-widgets/controls",
            "_model_module_version": "1.5.0",
            "_model_name": "DescriptionStyleModel",
            "_view_count": null,
            "_view_module": "@jupyter-widgets/base",
            "_view_module_version": "1.2.0",
            "_view_name": "StyleView",
            "description_width": ""
          }
        },
        "0d5315a47b62463aa4bf88c50a7ed040": {
          "model_module": "@jupyter-widgets/controls",
          "model_name": "HBoxModel",
          "model_module_version": "1.5.0",
          "state": {
            "_dom_classes": [],
            "_model_module": "@jupyter-widgets/controls",
            "_model_module_version": "1.5.0",
            "_model_name": "HBoxModel",
            "_view_count": null,
            "_view_module": "@jupyter-widgets/controls",
            "_view_module_version": "1.5.0",
            "_view_name": "HBoxView",
            "box_style": "",
            "children": [
              "IPY_MODEL_0ed7125dbeed4ec8ad2e42ddd11bba82",
              "IPY_MODEL_fcc3917ebd224a1a8abe5982e20acc3e",
              "IPY_MODEL_14cba419db154397b4e8fafc43bb797e"
            ],
            "layout": "IPY_MODEL_b3a4ffa0e9ab4a6dad332768e0c20393"
          }
        },
        "0ed7125dbeed4ec8ad2e42ddd11bba82": {
          "model_module": "@jupyter-widgets/controls",
          "model_name": "HTMLModel",
          "model_module_version": "1.5.0",
          "state": {
            "_dom_classes": [],
            "_model_module": "@jupyter-widgets/controls",
            "_model_module_version": "1.5.0",
            "_model_name": "HTMLModel",
            "_view_count": null,
            "_view_module": "@jupyter-widgets/controls",
            "_view_module_version": "1.5.0",
            "_view_name": "HTMLView",
            "description": "",
            "description_tooltip": null,
            "layout": "IPY_MODEL_13ec515e02ef4e369db44b78e6a3e11f",
            "placeholder": "​",
            "style": "IPY_MODEL_ef637728bfa04044a4173507f20477ed",
            "value": "vocab.txt: "
          }
        },
        "fcc3917ebd224a1a8abe5982e20acc3e": {
          "model_module": "@jupyter-widgets/controls",
          "model_name": "FloatProgressModel",
          "model_module_version": "1.5.0",
          "state": {
            "_dom_classes": [],
            "_model_module": "@jupyter-widgets/controls",
            "_model_module_version": "1.5.0",
            "_model_name": "FloatProgressModel",
            "_view_count": null,
            "_view_module": "@jupyter-widgets/controls",
            "_view_module_version": "1.5.0",
            "_view_name": "ProgressView",
            "bar_style": "success",
            "description": "",
            "description_tooltip": null,
            "layout": "IPY_MODEL_8b0f95b734e74f4b9a81c68f1d9078ec",
            "max": 1,
            "min": 0,
            "orientation": "horizontal",
            "style": "IPY_MODEL_a13d767d347b49cb933ed91809ede984",
            "value": 1
          }
        },
        "14cba419db154397b4e8fafc43bb797e": {
          "model_module": "@jupyter-widgets/controls",
          "model_name": "HTMLModel",
          "model_module_version": "1.5.0",
          "state": {
            "_dom_classes": [],
            "_model_module": "@jupyter-widgets/controls",
            "_model_module_version": "1.5.0",
            "_model_name": "HTMLModel",
            "_view_count": null,
            "_view_module": "@jupyter-widgets/controls",
            "_view_module_version": "1.5.0",
            "_view_name": "HTMLView",
            "description": "",
            "description_tooltip": null,
            "layout": "IPY_MODEL_ede2a38614ca41239031ba53201bae31",
            "placeholder": "​",
            "style": "IPY_MODEL_d79c72d9004649759a4de58b0ae39f78",
            "value": " 232k/? [00:00&lt;00:00, 5.38MB/s]"
          }
        },
        "b3a4ffa0e9ab4a6dad332768e0c20393": {
          "model_module": "@jupyter-widgets/base",
          "model_name": "LayoutModel",
          "model_module_version": "1.2.0",
          "state": {
            "_model_module": "@jupyter-widgets/base",
            "_model_module_version": "1.2.0",
            "_model_name": "LayoutModel",
            "_view_count": null,
            "_view_module": "@jupyter-widgets/base",
            "_view_module_version": "1.2.0",
            "_view_name": "LayoutView",
            "align_content": null,
            "align_items": null,
            "align_self": null,
            "border": null,
            "bottom": null,
            "display": null,
            "flex": null,
            "flex_flow": null,
            "grid_area": null,
            "grid_auto_columns": null,
            "grid_auto_flow": null,
            "grid_auto_rows": null,
            "grid_column": null,
            "grid_gap": null,
            "grid_row": null,
            "grid_template_areas": null,
            "grid_template_columns": null,
            "grid_template_rows": null,
            "height": null,
            "justify_content": null,
            "justify_items": null,
            "left": null,
            "margin": null,
            "max_height": null,
            "max_width": null,
            "min_height": null,
            "min_width": null,
            "object_fit": null,
            "object_position": null,
            "order": null,
            "overflow": null,
            "overflow_x": null,
            "overflow_y": null,
            "padding": null,
            "right": null,
            "top": null,
            "visibility": null,
            "width": null
          }
        },
        "13ec515e02ef4e369db44b78e6a3e11f": {
          "model_module": "@jupyter-widgets/base",
          "model_name": "LayoutModel",
          "model_module_version": "1.2.0",
          "state": {
            "_model_module": "@jupyter-widgets/base",
            "_model_module_version": "1.2.0",
            "_model_name": "LayoutModel",
            "_view_count": null,
            "_view_module": "@jupyter-widgets/base",
            "_view_module_version": "1.2.0",
            "_view_name": "LayoutView",
            "align_content": null,
            "align_items": null,
            "align_self": null,
            "border": null,
            "bottom": null,
            "display": null,
            "flex": null,
            "flex_flow": null,
            "grid_area": null,
            "grid_auto_columns": null,
            "grid_auto_flow": null,
            "grid_auto_rows": null,
            "grid_column": null,
            "grid_gap": null,
            "grid_row": null,
            "grid_template_areas": null,
            "grid_template_columns": null,
            "grid_template_rows": null,
            "height": null,
            "justify_content": null,
            "justify_items": null,
            "left": null,
            "margin": null,
            "max_height": null,
            "max_width": null,
            "min_height": null,
            "min_width": null,
            "object_fit": null,
            "object_position": null,
            "order": null,
            "overflow": null,
            "overflow_x": null,
            "overflow_y": null,
            "padding": null,
            "right": null,
            "top": null,
            "visibility": null,
            "width": null
          }
        },
        "ef637728bfa04044a4173507f20477ed": {
          "model_module": "@jupyter-widgets/controls",
          "model_name": "DescriptionStyleModel",
          "model_module_version": "1.5.0",
          "state": {
            "_model_module": "@jupyter-widgets/controls",
            "_model_module_version": "1.5.0",
            "_model_name": "DescriptionStyleModel",
            "_view_count": null,
            "_view_module": "@jupyter-widgets/base",
            "_view_module_version": "1.2.0",
            "_view_name": "StyleView",
            "description_width": ""
          }
        },
        "8b0f95b734e74f4b9a81c68f1d9078ec": {
          "model_module": "@jupyter-widgets/base",
          "model_name": "LayoutModel",
          "model_module_version": "1.2.0",
          "state": {
            "_model_module": "@jupyter-widgets/base",
            "_model_module_version": "1.2.0",
            "_model_name": "LayoutModel",
            "_view_count": null,
            "_view_module": "@jupyter-widgets/base",
            "_view_module_version": "1.2.0",
            "_view_name": "LayoutView",
            "align_content": null,
            "align_items": null,
            "align_self": null,
            "border": null,
            "bottom": null,
            "display": null,
            "flex": null,
            "flex_flow": null,
            "grid_area": null,
            "grid_auto_columns": null,
            "grid_auto_flow": null,
            "grid_auto_rows": null,
            "grid_column": null,
            "grid_gap": null,
            "grid_row": null,
            "grid_template_areas": null,
            "grid_template_columns": null,
            "grid_template_rows": null,
            "height": null,
            "justify_content": null,
            "justify_items": null,
            "left": null,
            "margin": null,
            "max_height": null,
            "max_width": null,
            "min_height": null,
            "min_width": null,
            "object_fit": null,
            "object_position": null,
            "order": null,
            "overflow": null,
            "overflow_x": null,
            "overflow_y": null,
            "padding": null,
            "right": null,
            "top": null,
            "visibility": null,
            "width": "20px"
          }
        },
        "a13d767d347b49cb933ed91809ede984": {
          "model_module": "@jupyter-widgets/controls",
          "model_name": "ProgressStyleModel",
          "model_module_version": "1.5.0",
          "state": {
            "_model_module": "@jupyter-widgets/controls",
            "_model_module_version": "1.5.0",
            "_model_name": "ProgressStyleModel",
            "_view_count": null,
            "_view_module": "@jupyter-widgets/base",
            "_view_module_version": "1.2.0",
            "_view_name": "StyleView",
            "bar_color": null,
            "description_width": ""
          }
        },
        "ede2a38614ca41239031ba53201bae31": {
          "model_module": "@jupyter-widgets/base",
          "model_name": "LayoutModel",
          "model_module_version": "1.2.0",
          "state": {
            "_model_module": "@jupyter-widgets/base",
            "_model_module_version": "1.2.0",
            "_model_name": "LayoutModel",
            "_view_count": null,
            "_view_module": "@jupyter-widgets/base",
            "_view_module_version": "1.2.0",
            "_view_name": "LayoutView",
            "align_content": null,
            "align_items": null,
            "align_self": null,
            "border": null,
            "bottom": null,
            "display": null,
            "flex": null,
            "flex_flow": null,
            "grid_area": null,
            "grid_auto_columns": null,
            "grid_auto_flow": null,
            "grid_auto_rows": null,
            "grid_column": null,
            "grid_gap": null,
            "grid_row": null,
            "grid_template_areas": null,
            "grid_template_columns": null,
            "grid_template_rows": null,
            "height": null,
            "justify_content": null,
            "justify_items": null,
            "left": null,
            "margin": null,
            "max_height": null,
            "max_width": null,
            "min_height": null,
            "min_width": null,
            "object_fit": null,
            "object_position": null,
            "order": null,
            "overflow": null,
            "overflow_x": null,
            "overflow_y": null,
            "padding": null,
            "right": null,
            "top": null,
            "visibility": null,
            "width": null
          }
        },
        "d79c72d9004649759a4de58b0ae39f78": {
          "model_module": "@jupyter-widgets/controls",
          "model_name": "DescriptionStyleModel",
          "model_module_version": "1.5.0",
          "state": {
            "_model_module": "@jupyter-widgets/controls",
            "_model_module_version": "1.5.0",
            "_model_name": "DescriptionStyleModel",
            "_view_count": null,
            "_view_module": "@jupyter-widgets/base",
            "_view_module_version": "1.2.0",
            "_view_name": "StyleView",
            "description_width": ""
          }
        }
      }
    },
    "accelerator": "GPU"
  },
  "nbformat": 4,
  "nbformat_minor": 0
}